{
 "cells": [
  {
   "cell_type": "code",
   "execution_count": 2,
   "metadata": {},
   "outputs": [],
   "source": [
    "#### windows, linux\n",
    "## windows --> user friendly\n",
    "## design --> user interface (GUI)\n",
    "## development --> backend (content) (websites,games,desktop application,android app)\n",
    "## project (important)"
   ]
  },
  {
   "cell_type": "markdown",
   "metadata": {},
   "source": [
    "    scripting(code) --> scripting language(python)\n",
    "                        php\n",
    "                        .net\n",
    "                        javascript\n",
    "                        \n",
    "    3 types of languages:\n",
    "        1. programming language\n",
    "        2. scripting language\n",
    "        3. markup language\n",
    "        \n",
    "    what is programming language???\n",
    "        Interaction between you and computer\n",
    "        Compiler/interpreter\n",
    "        Set of tasks(instructions)\n",
    "        \n",
    "     what is scripting language???\n",
    "         result into a product\n",
    "         client-server\n",
    "         \n",
    "     python --> programming language, scripting language\n",
    "     desktop application --> python , tkinter, pyqt\n",
    "     \n",
    "     \n",
    "     what is markup language???\n",
    "         tags --> <>\n",
    "         Browser understandable\n",
    "         html --> hyper text markup language \n",
    "         xml ---> extensible markup language\n",
    "                 storing\n",
    "                 own tags\n",
    "                 <id>\n",
    "                     <name>Simran</name>\n",
    "                     <roll>12</roll>\n",
    "                  </id>\n",
    "     frontend --> design ---> html,css,js,bs\n",
    "     backend --> development --> frameworks --> flask,django\n",
    "     API\n",
    "     web scraping\n",
    "     tkinter\n",
    "     \n",
    "     Databases --> Data store"
   ]
  },
  {
   "cell_type": "markdown",
   "metadata": {},
   "source": [
    "### Databases\n",
    "\n",
    "    1. It is used to store data\n",
    "    \n",
    "    Difference between file and database:\n",
    "        \n",
    "        1. to store large data\n",
    "        2. Handling data \n",
    "        3. Time save\n",
    "        4. Memory save\n",
    "        5. Redundancy (repetition)\n",
    "        6. Multiple Users\n",
    "        7. Queries (Languages)\n",
    "        8. Security(database without password access)\n",
    "                1. permissions\n",
    "                \n",
    "        9. ACID (Transaction)\n",
    "            Atomicity --> Either completely or nothing\n",
    "            Consistency --> Stable, consistent, there is no change till next transaction\n",
    "            Isolation -->  separatly, isolated, transaction of one is separated from another.  \n",
    "            Durability --> Data is stored permanently"
   ]
  },
  {
   "cell_type": "code",
   "execution_count": 3,
   "metadata": {},
   "outputs": [],
   "source": [
    "### keys, languages, types of database"
   ]
  },
  {
   "cell_type": "code",
   "execution_count": 4,
   "metadata": {},
   "outputs": [],
   "source": [
    "### which company is using which database????\n",
    "### data types of mysql???"
   ]
  },
  {
   "cell_type": "code",
   "execution_count": null,
   "metadata": {},
   "outputs": [],
   "source": [
    "### domain??? , networking????"
   ]
  }
 ],
 "metadata": {
  "kernelspec": {
   "display_name": "Python 3",
   "language": "python",
   "name": "python3"
  },
  "language_info": {
   "codemirror_mode": {
    "name": "ipython",
    "version": 3
   },
   "file_extension": ".py",
   "mimetype": "text/x-python",
   "name": "python",
   "nbconvert_exporter": "python",
   "pygments_lexer": "ipython3",
   "version": "3.7.4"
  }
 },
 "nbformat": 4,
 "nbformat_minor": 2
}
