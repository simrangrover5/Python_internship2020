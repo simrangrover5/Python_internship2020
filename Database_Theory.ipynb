{
 "cells": [
  {
   "cell_type": "markdown",
   "metadata": {},
   "source": [
    "          Student\n",
    "          Id      Name       Course       phno      email\n",
    "          1.    Sunil       Python      987654321   sunil@gmail.com\n",
    "          2.  priyanshi     Python      12345678     priyanshi@gmail.com\n",
    "          3.   Anisha       Python      98765321        Null\n",
    "          4.    Anushka        ds           null        null\n",
    "          \n",
    "          Fees\n",
    "          id   Fees         Discount       dip      SID\n",
    "          1.   12000         2000          5000      1\n",
    "          3.   10000         1000          4000\n",
    "          2.   12500         3000          10000\n",
    "          \n",
    "          Details:\n",
    "          Sid     cover       left\n",
    "          1.      python     advance"
   ]
  },
  {
   "cell_type": "markdown",
   "metadata": {},
   "source": [
    "        SQL\n",
    "            Structured Query Language\n",
    "            Structure --> table format --> rows and columns\n",
    "            Query --> You can put query(question)\n",
    "            language --> It has own rules and syntax\n",
    "            \n",
    "            RDBMS --> Relational Database management system\n",
    "            Relation (two tables)\n",
    "            Eg --> Mysql, Oracle, Pymysql,sqlite3, mariadb etc\n",
    "            \n",
    "        No SQL\n",
    "            Non Structual Query Language\n",
    "            Language --> syntax and rules\n",
    "            Non relational Database Management System\n",
    "            \n",
    "               {\n",
    "                   \"name\" : \"simran\",\n",
    "                   \"id\" : 2\n",
    "                }\n",
    "                {\n",
    "                    \"course\" : \"python\",\n",
    "                    \"name\" : \"anisha\"\n",
    "                }\n",
    "                {\n",
    "                    \"fees\" : 12000,\n",
    "                    \"id\"  : 2\n",
    "                 }\n",
    "                 eg. Mongodb\n",
    "                "
   ]
  },
  {
   "cell_type": "markdown",
   "metadata": {},
   "source": [
    "### Keys (constraints)\n",
    "\n",
    "        1. Primary key   ---> For each Record we should have unique value (in our case id will be the primary key)\n",
    "                               Not null(one table can have only one primary key)\n",
    "        2. Candidate key --> Are those keys or columns that are eligible to be primary key(id,email)\n",
    "        3. Unique key  --> Will not allow the duplicate data (null) \n",
    "        4. Alternate key --> Those keys that cannot be the primary key(name,course)\n",
    "        5. Foreign Key --> Relate two tables throw this key (one table can have multiple foreign keys)\n",
    "        6. Super key --> (name + id + phno + email) --> primary key\n",
    "        7. Composite Key -->  Combination of two or more keys(columns) that become the primary key\n",
    "                               (name + phno) -->> primary key\n",
    "                               \n",
    "                               Sunil,876543210 --> unique\n",
    "                               Sunil,987654321 --> unique\n",
    "                               Aman,987654321\n",
    "                               Ayushi,987654321\n",
    "                               ayu,987654321\n",
    "                               ayu,987654321"
   ]
  },
  {
   "cell_type": "code",
   "execution_count": null,
   "metadata": {},
   "outputs": [],
   "source": [
    "#### DBA ---> Database Administrator\n",
    "### Database ---> post???\n",
    "### database (joins)"
   ]
  },
  {
   "cell_type": "markdown",
   "metadata": {},
   "source": [
    "            MYSQL              SQLITE\n",
    "             Mysql\n",
    "             Xampp\n",
    "             \n",
    "             \n",
    "                                 SQL  Languages\n",
    "                                 \n",
    "                            1. DDL  --> Data Definition Language (Schema) (Schema --> Overall definition of table)\n",
    "                                    1. Create\n",
    "                                    2. Drop (delete table as well as data)\n",
    "                                    3. truncate (delete all data but not structure or schema)\n",
    "                                    4. comment\n",
    "                                    5. rename\n",
    "                                    6. alter (alter the columns)(add column, remove column, change datatype of column)\n",
    "                            2. DML  --> Data manipulation Language\n",
    "                                     1.Insert\n",
    "                                     2. Update (i want to change the data of sunil --> course --> ml)\n",
    "                                     3. delete\n",
    "                                     4. select\n",
    "                            3. DCL --> Data Control Language\n",
    "                                    1. grant --> it is used to give permission\n",
    "                                    2. revoke --> it is used to take back the permission\n",
    "                            4. TCL --> Transactional Control Language\n",
    "                                     1. commit  (permanently save the data)\n",
    "                                     2. rollback \n",
    "                                     3. savepoint"
   ]
  },
  {
   "cell_type": "markdown",
   "metadata": {},
   "source": [
    "##### xampp\n",
    "    1. start --> mysql --> service\n",
    "    2. open the shell of xampp\n",
    "    3. mysql -u root -p                        (- --> option,-u --> user, -p --> password)\n",
    "    4. enter\n",
    "    5. mysql shell"
   ]
  },
  {
   "cell_type": "code",
   "execution_count": 1,
   "metadata": {},
   "outputs": [],
   "source": [
    "### port???"
   ]
  },
  {
   "cell_type": "markdown",
   "metadata": {},
   "source": [
    "Server (Application) ---> Database --> Tables --> Data"
   ]
  },
  {
   "cell_type": "markdown",
   "metadata": {},
   "source": [
    "; --> end of query"
   ]
  },
  {
   "cell_type": "markdown",
   "metadata": {},
   "source": [
    "create table tablename(column_name datatype(range) , column_name2 datatype(range))"
   ]
  },
  {
   "cell_type": "markdown",
   "metadata": {},
   "source": [
    "#### difference between char and varchar???"
   ]
  },
  {
   "cell_type": "code",
   "execution_count": null,
   "metadata": {},
   "outputs": [],
   "source": []
  }
 ],
 "metadata": {
  "kernelspec": {
   "display_name": "Python 3",
   "language": "python",
   "name": "python3"
  },
  "language_info": {
   "codemirror_mode": {
    "name": "ipython",
    "version": 3
   },
   "file_extension": ".py",
   "mimetype": "text/x-python",
   "name": "python",
   "nbconvert_exporter": "python",
   "pygments_lexer": "ipython3",
   "version": "3.7.4"
  }
 },
 "nbformat": 4,
 "nbformat_minor": 2
}
