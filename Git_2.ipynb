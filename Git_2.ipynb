{
 "cells": [
  {
   "cell_type": "code",
   "execution_count": 1,
   "metadata": {},
   "outputs": [],
   "source": [
    "import os"
   ]
  },
  {
   "cell_type": "code",
   "execution_count": 2,
   "metadata": {},
   "outputs": [],
   "source": [
    "os.chdir(\"/batches/gitrepo/\")"
   ]
  },
  {
   "cell_type": "code",
   "execution_count": 3,
   "metadata": {},
   "outputs": [
    {
     "name": "stdout",
     "output_type": "stream",
     "text": [
      " Volume in drive C is Windows\n",
      " Volume Serial Number is E08D-DAD9\n",
      "\n",
      " Directory of C:\\batches\\gitrepo\n",
      "\n",
      "11-07-2020  11:34    <DIR>          .\n",
      "11-07-2020  11:34    <DIR>          ..\n",
      "11-07-2020  11:28             2,266 .one.py.un~\n",
      "11-07-2020  11:41               142 c1.py\n",
      "11-07-2020  11:28               114 one.py\n",
      "11-07-2020  11:24                90 one.py~\n",
      "               4 File(s)          2,612 bytes\n",
      "               2 Dir(s)  24,852,598,784 bytes free\n"
     ]
    }
   ],
   "source": [
    "ls"
   ]
  },
  {
   "cell_type": "code",
   "execution_count": 4,
   "metadata": {},
   "outputs": [
    {
     "name": "stdout",
     "output_type": "stream",
     "text": [
      "commit 3102b4df57de4bd2b971038948320f1555c23c57\n",
      "Author: simrangrover5 <simrangrover5@gmail.com>\n",
      "Date:   Sat Jul 11 11:43:57 2020 +0530\n",
      "\n",
      "    added a method in class in c1.py file\n",
      "\n",
      "commit 58dcc239356651c4b0a3bbdc8a6b3f1decdf20b2\n",
      "Author: simrangrover5 <simrangrover5@gmail.com>\n",
      "Date:   Sat Jul 11 11:37:57 2020 +0530\n",
      "\n",
      "    added a file c1.py which consists of class\n",
      "\n",
      "commit 9cd45e2f3cfcbd029863bf7c38074dac33da5862\n",
      "Author: simrangrover5 <simrangrover5@gmail.com>\n",
      "Date:   Sat Jul 11 11:30:14 2020 +0530\n",
      "\n",
      "    added a print line in py file\n",
      "\n",
      "commit 53c1e68b0aadeffc0c70e4a8a8e190f04506272c\n",
      "Author: simrangrover5 <simrangrover5@gmail.com>\n",
      "Date:   Sat Jul 11 11:26:29 2020 +0530\n",
      "\n",
      "    added a python file one.py\n"
     ]
    }
   ],
   "source": [
    "!git log"
   ]
  },
  {
   "cell_type": "code",
   "execution_count": 5,
   "metadata": {},
   "outputs": [
    {
     "name": "stdout",
     "output_type": "stream",
     "text": [
      "V2.0\n",
      "V2.1\n",
      "V2.2\n"
     ]
    }
   ],
   "source": [
    "!git tag"
   ]
  },
  {
   "cell_type": "code",
   "execution_count": 6,
   "metadata": {},
   "outputs": [
    {
     "name": "stdout",
     "output_type": "stream",
     "text": [
      "tag V2.0\n",
      "Tagger: simrangrover5 <simrangrover5@gmail.com>\n",
      "Date:   Sat Jul 11 11:31:31 2020 +0530\n",
      "\n",
      "   V2.0  This is first version of my file\n",
      "\n",
      "commit 9cd45e2f3cfcbd029863bf7c38074dac33da5862\n",
      "Author: simrangrover5 <simrangrover5@gmail.com>\n",
      "Date:   Sat Jul 11 11:30:14 2020 +0530\n",
      "\n",
      "    added a print line in py file\n",
      "\n",
      "diff --git a/.one.py.un~ b/.one.py.un~\n",
      "index aa87d7b..d0f2ddb 100644\n",
      "Binary files a/.one.py.un~ and b/.one.py.un~ differ\n",
      "diff --git a/one.py b/one.py\n",
      "index 2dcb1a0..5880236 100644\n",
      "--- a/one.py\n",
      "+++ b/one.py\n",
      "@@ -6,3 +6,6 @@ def add(a,b):\n",
      " \n",
      " def sub(a,b):\n",
      "     return a-b\n",
      "+\n",
      "+\n",
      "+print(\"bye world\")\n",
      "diff --git a/one.py~ b/one.py~\n",
      "index 28b0ba2..2dcb1a0 100644\n",
      "--- a/one.py~\n",
      "+++ b/one.py~\n",
      "@@ -2,3 +2,7 @@ print(\"hello world\")\n",
      " \n",
      " def add(a,b):\n",
      "     return a+b\n",
      "+\n",
      "+\n",
      "+def sub(a,b):\n",
      "+    return a-b\n"
     ]
    }
   ],
   "source": [
    "!git show v2.0"
   ]
  },
  {
   "cell_type": "code",
   "execution_count": 7,
   "metadata": {},
   "outputs": [],
   "source": [
    "!git diff"
   ]
  },
  {
   "cell_type": "code",
   "execution_count": 8,
   "metadata": {},
   "outputs": [
    {
     "name": "stdout",
     "output_type": "stream",
     "text": [
      "commit b47b9933cfab8aee2570648b730ae7466adf7d3a\n",
      "Author: Simran <simrangrover5@gmail.com>\n",
      "Date:   Mon Jul 13 17:19:58 2020 +0530\n",
      "\n",
      "    added a new function square in file\n",
      "\n",
      "commit 3102b4df57de4bd2b971038948320f1555c23c57\n",
      "Author: simrangrover5 <simrangrover5@gmail.com>\n",
      "Date:   Sat Jul 11 11:43:57 2020 +0530\n",
      "\n",
      "    added a method in class in c1.py file\n",
      "\n",
      "commit 58dcc239356651c4b0a3bbdc8a6b3f1decdf20b2\n",
      "Author: simrangrover5 <simrangrover5@gmail.com>\n",
      "Date:   Sat Jul 11 11:37:57 2020 +0530\n",
      "\n",
      "    added a file c1.py which consists of class\n",
      "\n",
      "commit 9cd45e2f3cfcbd029863bf7c38074dac33da5862\n",
      "Author: simrangrover5 <simrangrover5@gmail.com>\n",
      "Date:   Sat Jul 11 11:30:14 2020 +0530\n",
      "\n",
      "    added a print line in py file\n",
      "\n",
      "commit 53c1e68b0aadeffc0c70e4a8a8e190f04506272c\n",
      "Author: simrangrover5 <simrangrover5@gmail.com>\n",
      "Date:   Sat Jul 11 11:26:29 2020 +0530\n",
      "\n",
      "    added a python file one.py\n"
     ]
    }
   ],
   "source": [
    "!git log"
   ]
  },
  {
   "cell_type": "code",
   "execution_count": 9,
   "metadata": {},
   "outputs": [
    {
     "name": "stdout",
     "output_type": "stream",
     "text": [
      "diff --git a/.one.py.un~ b/.one.py.un~\n",
      "new file mode 100644\n",
      "index 0000000..d0f2ddb\n",
      "Binary files /dev/null and b/.one.py.un~ differ\n",
      "diff --git a/one.py b/one.py\n",
      "index 0a71a14..5880236 100644\n",
      "--- a/one.py\n",
      "+++ b/one.py\n",
      "@@ -9,6 +9,3 @@ def sub(a,b):\n",
      " \n",
      " \n",
      " print(\"bye world\")\n",
      "-\n",
      "-def sq(x):\n",
      "-    return x**2\n",
      "diff --git a/one.py~ b/one.py~\n",
      "new file mode 100644\n",
      "index 0000000..2dcb1a0\n",
      "--- /dev/null\n",
      "+++ b/one.py~\n",
      "@@ -0,0 +1,8 @@\n",
      "+print(\"hello world\")\n",
      "+\n",
      "+def add(a,b):\n",
      "+    return a+b\n",
      "+\n",
      "+\n",
      "+def sub(a,b):\n",
      "+    return a-b\n"
     ]
    }
   ],
   "source": [
    "!git diff b47b9933cfab8aee2570648b730ae7466adf7d3a 3102b4df57de4bd2b971038948320f1555c23c57"
   ]
  },
  {
   "cell_type": "code",
   "execution_count": 10,
   "metadata": {},
   "outputs": [
    {
     "name": "stdout",
     "output_type": "stream",
     "text": [
      "commit b47b9933cfab8aee2570648b730ae7466adf7d3a\n",
      "Author: Simran <simrangrover5@gmail.com>\n",
      "Date:   Mon Jul 13 17:19:58 2020 +0530\n",
      "\n",
      "    added a new function square in file\n"
     ]
    }
   ],
   "source": [
    "!git log -n 1"
   ]
  },
  {
   "cell_type": "code",
   "execution_count": 11,
   "metadata": {},
   "outputs": [
    {
     "name": "stdout",
     "output_type": "stream",
     "text": [
      "commit b47b9933cfab8aee2570648b730ae7466adf7d3a\n",
      "Author: Simran <simrangrover5@gmail.com>\n",
      "Date:   Mon Jul 13 17:19:58 2020 +0530\n",
      "\n",
      "    added a new function square in file\n",
      "\n",
      "commit 3102b4df57de4bd2b971038948320f1555c23c57\n",
      "Author: simrangrover5 <simrangrover5@gmail.com>\n",
      "Date:   Sat Jul 11 11:43:57 2020 +0530\n",
      "\n",
      "    added a method in class in c1.py file\n",
      "\n",
      "commit 58dcc239356651c4b0a3bbdc8a6b3f1decdf20b2\n",
      "Author: simrangrover5 <simrangrover5@gmail.com>\n",
      "Date:   Sat Jul 11 11:37:57 2020 +0530\n",
      "\n",
      "    added a file c1.py which consists of class\n",
      "\n",
      "commit 9cd45e2f3cfcbd029863bf7c38074dac33da5862\n",
      "Author: simrangrover5 <simrangrover5@gmail.com>\n",
      "Date:   Sat Jul 11 11:30:14 2020 +0530\n",
      "\n",
      "    added a print line in py file\n",
      "\n",
      "commit 53c1e68b0aadeffc0c70e4a8a8e190f04506272c\n",
      "Author: simrangrover5 <simrangrover5@gmail.com>\n",
      "Date:   Sat Jul 11 11:26:29 2020 +0530\n",
      "\n",
      "    added a python file one.py\n"
     ]
    }
   ],
   "source": [
    "!git log -n 5"
   ]
  },
  {
   "cell_type": "code",
   "execution_count": 12,
   "metadata": {},
   "outputs": [
    {
     "name": "stdout",
     "output_type": "stream",
     "text": [
      "commit b47b9933cfab8aee2570648b730ae7466adf7d3a\n",
      "Author: Simran <simrangrover5@gmail.com>\n",
      "Date:   Mon Jul 13 17:19:58 2020 +0530\n",
      "\n",
      "    added a new function square in file\n",
      "\n",
      "commit 3102b4df57de4bd2b971038948320f1555c23c57\n",
      "Author: simrangrover5 <simrangrover5@gmail.com>\n",
      "Date:   Sat Jul 11 11:43:57 2020 +0530\n",
      "\n",
      "    added a method in class in c1.py file\n",
      "\n",
      "commit 58dcc239356651c4b0a3bbdc8a6b3f1decdf20b2\n",
      "Author: simrangrover5 <simrangrover5@gmail.com>\n",
      "Date:   Sat Jul 11 11:37:57 2020 +0530\n",
      "\n",
      "    added a file c1.py which consists of class\n"
     ]
    }
   ],
   "source": [
    "!git log -n 3"
   ]
  },
  {
   "cell_type": "code",
   "execution_count": 20,
   "metadata": {},
   "outputs": [
    {
     "name": "stdout",
     "output_type": "stream",
     "text": [
      "commit 3102b4df57de4bd2b971038948320f1555c23c57\n",
      "Author: simrangrover5 <simrangrover5@gmail.com>\n",
      "Date:   Sat Jul 11 11:43:57 2020 +0530\n",
      "\n",
      "    added a method in class in c1.py file\n",
      "\n",
      "commit 58dcc239356651c4b0a3bbdc8a6b3f1decdf20b2\n",
      "Author: simrangrover5 <simrangrover5@gmail.com>\n",
      "Date:   Sat Jul 11 11:37:57 2020 +0530\n",
      "\n",
      "    added a file c1.py which consists of class\n",
      "\n",
      "commit 9cd45e2f3cfcbd029863bf7c38074dac33da5862\n",
      "Author: simrangrover5 <simrangrover5@gmail.com>\n",
      "Date:   Sat Jul 11 11:30:14 2020 +0530\n",
      "\n",
      "    added a print line in py file\n",
      "\n",
      "commit 53c1e68b0aadeffc0c70e4a8a8e190f04506272c\n",
      "Author: simrangrover5 <simrangrover5@gmail.com>\n",
      "Date:   Sat Jul 11 11:26:29 2020 +0530\n",
      "\n",
      "    added a python file one.py\n"
     ]
    }
   ],
   "source": [
    "!git log --until 2020-07-12"
   ]
  },
  {
   "cell_type": "code",
   "execution_count": 21,
   "metadata": {},
   "outputs": [],
   "source": [
    "# tree --> root --> branches --> leaves\n",
    "# root --> folder/git repository --> branches --> leaves(files/folder) "
   ]
  },
  {
   "cell_type": "code",
   "execution_count": 22,
   "metadata": {},
   "outputs": [
    {
     "name": "stdout",
     "output_type": "stream",
     "text": [
      "* master\n"
     ]
    }
   ],
   "source": [
    "!git branch"
   ]
  },
  {
   "cell_type": "code",
   "execution_count": 23,
   "metadata": {},
   "outputs": [],
   "source": [
    "#by default you are in master branch"
   ]
  },
  {
   "cell_type": "code",
   "execution_count": 24,
   "metadata": {},
   "outputs": [],
   "source": [
    "!git branch mybranch"
   ]
  },
  {
   "cell_type": "code",
   "execution_count": 25,
   "metadata": {},
   "outputs": [
    {
     "name": "stdout",
     "output_type": "stream",
     "text": [
      "* master\n",
      "  mybranch\n"
     ]
    }
   ],
   "source": [
    "!git branch"
   ]
  },
  {
   "cell_type": "code",
   "execution_count": 26,
   "metadata": {},
   "outputs": [],
   "source": [
    "#new branch is created \n",
    "#now switch to that branch so that you can work on your own"
   ]
  },
  {
   "cell_type": "code",
   "execution_count": 27,
   "metadata": {},
   "outputs": [
    {
     "name": "stderr",
     "output_type": "stream",
     "text": [
      "Switched to branch 'mybranch'\n"
     ]
    }
   ],
   "source": [
    "!git checkout mybranch"
   ]
  },
  {
   "cell_type": "code",
   "execution_count": 28,
   "metadata": {},
   "outputs": [
    {
     "name": "stdout",
     "output_type": "stream",
     "text": [
      "  master\n",
      "* mybranch\n"
     ]
    }
   ],
   "source": [
    "!git branch"
   ]
  },
  {
   "cell_type": "code",
   "execution_count": 29,
   "metadata": {},
   "outputs": [
    {
     "name": "stdout",
     "output_type": "stream",
     "text": [
      " Volume in drive C is Windows\n",
      " Volume Serial Number is E08D-DAD9\n",
      "\n",
      " Directory of C:\\batches\\gitrepo\n",
      "\n",
      "13-07-2020  17:17    <DIR>          .\n",
      "13-07-2020  17:17    <DIR>          ..\n",
      "11-07-2020  11:41               142 c1.py\n",
      "13-07-2020  17:16               145 one.py\n",
      "               2 File(s)            287 bytes\n",
      "               2 Dir(s)  25,063,473,152 bytes free\n"
     ]
    }
   ],
   "source": [
    "ls"
   ]
  },
  {
   "cell_type": "code",
   "execution_count": null,
   "metadata": {},
   "outputs": [],
   "source": [
    "!vim one.py"
   ]
  },
  {
   "cell_type": "code",
   "execution_count": 3,
   "metadata": {},
   "outputs": [],
   "source": [
    "#remotely work --> remote repo"
   ]
  },
  {
   "cell_type": "code",
   "execution_count": 4,
   "metadata": {},
   "outputs": [],
   "source": [
    "#link your remote repo with your local repo"
   ]
  },
  {
   "cell_type": "code",
   "execution_count": 5,
   "metadata": {},
   "outputs": [
    {
     "name": "stdout",
     "output_type": "stream",
     "text": [
      "Simran\n"
     ]
    }
   ],
   "source": [
    "!git config user.name"
   ]
  },
  {
   "cell_type": "code",
   "execution_count": 6,
   "metadata": {},
   "outputs": [],
   "source": [
    "!git config user.name simrangrover5"
   ]
  },
  {
   "cell_type": "code",
   "execution_count": 7,
   "metadata": {},
   "outputs": [
    {
     "name": "stdout",
     "output_type": "stream",
     "text": [
      "simrangrover5\n"
     ]
    }
   ],
   "source": [
    "!git config user.name"
   ]
  },
  {
   "cell_type": "code",
   "execution_count": 8,
   "metadata": {},
   "outputs": [],
   "source": [
    "!git remote add origin https://github.com/simrangrover5/Python_internship2020.git"
   ]
  },
  {
   "cell_type": "code",
   "execution_count": 9,
   "metadata": {},
   "outputs": [],
   "source": [
    "#create an identification for the remote repository"
   ]
  },
  {
   "cell_type": "code",
   "execution_count": 10,
   "metadata": {},
   "outputs": [],
   "source": [
    "#git push origin master\n",
    "#push the content or upload the content of master into origin (onine repo)"
   ]
  },
  {
   "cell_type": "code",
   "execution_count": 11,
   "metadata": {},
   "outputs": [
    {
     "name": "stderr",
     "output_type": "stream",
     "text": [
      "fatal: HttpRequestException encountered.\n",
      "   An error occurred while sending the request.\n",
      "bash: /dev/tty: No such device or address\n",
      "error: failed to execute prompt script (exit code 1)\n",
      "fatal: could not read Username for 'https://github.com': No error\n"
     ]
    }
   ],
   "source": [
    "!git push origin master"
   ]
  },
  {
   "cell_type": "code",
   "execution_count": 12,
   "metadata": {},
   "outputs": [],
   "source": [
    "#copy the url of the repository and then run this command\n",
    "#git clone https://github.com/simrangrover5/Python_internship2020.git\n",
    "#git pull origin master\n",
    "#you have no right to push your code"
   ]
  },
  {
   "cell_type": "code",
   "execution_count": 13,
   "metadata": {},
   "outputs": [],
   "source": [
    "#collaborators \n",
    "#suppose there are two people working on a project so both can pull and both and push the code\n",
    "#the repo --> pull to get the changes in that particular directory\n",
    "#and then push your code over there"
   ]
  },
  {
   "cell_type": "code",
   "execution_count": null,
   "metadata": {},
   "outputs": [],
   "source": []
  }
 ],
 "metadata": {
  "kernelspec": {
   "display_name": "Python 3",
   "language": "python",
   "name": "python3"
  },
  "language_info": {
   "codemirror_mode": {
    "name": "ipython",
    "version": 3
   },
   "file_extension": ".py",
   "mimetype": "text/x-python",
   "name": "python",
   "nbconvert_exporter": "python",
   "pygments_lexer": "ipython3",
   "version": "3.7.4"
  }
 },
 "nbformat": 4,
 "nbformat_minor": 2
}
