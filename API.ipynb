{
 "cells": [
  {
   "cell_type": "markdown",
   "metadata": {},
   "source": [
    "    API\n",
    "    \n",
    "        Application Programming Interface\n",
    "        \n",
    "            Application      Connect    Program(Script)\n",
    "            Interface --> API\n",
    "            \n",
    "            \n",
    "            Application --> Data --> Places\n",
    "            \n",
    "            Google Maps --> Data\n",
    "            SSO --> Google Login, Facebook Login, Twitter Login, Github Login\n",
    "            Payment Gateways --> Paytm, GooglePay \n",
    "            BooK My show --> Tickets\n",
    "            Travel \n",
    "            Message Bots (ML) (BOT api)\n",
    "            \n",
    "            <a href=\"\">\n",
    "            <a href=\"\">\n",
    "            <a href=\"\">\n",
    "            <a href=\"\">\n",
    "            "
   ]
  },
  {
   "cell_type": "markdown",
   "metadata": {},
   "source": [
    "    API\n",
    "        APPS (representating you)\n",
    "\n",
    "            Myapp --> key\n",
    "          Url (GET)-->data share\n",
    "          Url (POST) --> data post\n",
    "          \n",
    "          Google Api --> 100 hits (request that url 100 times per day)\n",
    "          \n",
    "       developers website\n",
    "           api --> app1\n",
    "                       youtube api\n",
    "                   app2\n",
    "                       Google login\n",
    "                   app3\n",
    "                       google map api\n",
    "           \n",
    "          "
   ]
  },
  {
   "cell_type": "code",
   "execution_count": 4,
   "metadata": {},
   "outputs": [],
   "source": [
    "key = \"EAAIEVOKyhdcBAIMZCzLIqEn9rUK6D5KZCx7cwcBgEXW8ftL4DeJmXdlCk7NOspqypwcRaDHSce0NxH3H8YF6qs7iKXnFIIEfQXhmDb91fWzAbD39q9zTCU9rsGMXMhKn6ZCHNBMO2p7jbyZBsSkNtBeqZAOEDZAMWwEjUsrXg08DuX2ZAgB7rIBDfuLqRn2a367jH6CHEUXq94DiZCbT9PMnU7LNZCZAEm9ISgpgr5ea2sVwZDZD\"\n",
    "url = f\"https://graph.facebook.com/v7.0/me?fields=id,name&access_token={key}\""
   ]
  },
  {
   "cell_type": "code",
   "execution_count": 5,
   "metadata": {},
   "outputs": [],
   "source": [
    "import requests"
   ]
  },
  {
   "cell_type": "code",
   "execution_count": 7,
   "metadata": {},
   "outputs": [
    {
     "data": {
      "text/plain": [
       "<Response [200]>"
      ]
     },
     "execution_count": 7,
     "metadata": {},
     "output_type": "execute_result"
    }
   ],
   "source": [
    "data = requests.get(url)\n",
    "data"
   ]
  },
  {
   "cell_type": "code",
   "execution_count": 8,
   "metadata": {},
   "outputs": [
    {
     "name": "stdout",
     "output_type": "stream",
     "text": [
      "['__attrs__', '__bool__', '__class__', '__delattr__', '__dict__', '__dir__', '__doc__', '__enter__', '__eq__', '__exit__', '__format__', '__ge__', '__getattribute__', '__getstate__', '__gt__', '__hash__', '__init__', '__init_subclass__', '__iter__', '__le__', '__lt__', '__module__', '__ne__', '__new__', '__nonzero__', '__reduce__', '__reduce_ex__', '__repr__', '__setattr__', '__setstate__', '__sizeof__', '__str__', '__subclasshook__', '__weakref__', '_content', '_content_consumed', '_next', 'apparent_encoding', 'close', 'connection', 'content', 'cookies', 'elapsed', 'encoding', 'headers', 'history', 'is_permanent_redirect', 'is_redirect', 'iter_content', 'iter_lines', 'json', 'links', 'next', 'ok', 'raise_for_status', 'raw', 'reason', 'request', 'status_code', 'text', 'url']\n"
     ]
    }
   ],
   "source": [
    "print(dir(data))"
   ]
  },
  {
   "cell_type": "code",
   "execution_count": 9,
   "metadata": {},
   "outputs": [
    {
     "data": {
      "text/plain": [
       "{'ETag': '\"835ae0316716d73ee7f619e87c3b725a6b09c141\"', 'x-app-usage': '{\"call_count\":8,\"total_cputime\":0,\"total_time\":3}', 'Content-Type': 'application/json; charset=UTF-8', 'facebook-api-version': 'v7.0', 'Strict-Transport-Security': 'max-age=15552000; preload', 'Pragma': 'no-cache', 'x-fb-rev': '1002275663', 'Access-Control-Allow-Origin': '*', 'Cache-Control': 'private, no-cache, no-store, must-revalidate', 'x-fb-trace-id': 'Hn53ZULrArV', 'x-fb-request-id': 'AANpzteN56VxEv7_5x6c2qx', 'Expires': 'Sat, 01 Jan 2000 00:00:00 GMT', 'X-FB-Debug': 'fKShBtyPpy7O/ByLM1PzfMrY/ZawS8J0ApxzvKjX7Z/aYkxL6ZM0dQSJTRcrLnLqLVAnuDN5lSCNU0OdwVTvZw==', 'Date': 'Mon, 22 Jun 2020 12:47:51 GMT', 'Alt-Svc': 'h3-29=\":443\"; ma=3600,h3-27=\":443\"; ma=3600', 'Connection': 'keep-alive', 'Content-Length': '48'}"
      ]
     },
     "execution_count": 9,
     "metadata": {},
     "output_type": "execute_result"
    }
   ],
   "source": [
    "data.headers"
   ]
  },
  {
   "cell_type": "code",
   "execution_count": 12,
   "metadata": {},
   "outputs": [
    {
     "data": {
      "text/plain": [
       "<RequestsCookieJar[]>"
      ]
     },
     "execution_count": 12,
     "metadata": {},
     "output_type": "execute_result"
    }
   ],
   "source": [
    "data.cookies"
   ]
  },
  {
   "cell_type": "code",
   "execution_count": 15,
   "metadata": {},
   "outputs": [
    {
     "data": {
      "text/plain": [
       "<requests.adapters.HTTPAdapter at 0x23a9ce25b48>"
      ]
     },
     "execution_count": 15,
     "metadata": {},
     "output_type": "execute_result"
    }
   ],
   "source": [
    "data.connection"
   ]
  },
  {
   "cell_type": "code",
   "execution_count": 17,
   "metadata": {},
   "outputs": [
    {
     "data": {
      "text/plain": [
       "'keep-alive'"
      ]
     },
     "execution_count": 17,
     "metadata": {},
     "output_type": "execute_result"
    }
   ],
   "source": [
    "data.headers['Connection']"
   ]
  },
  {
   "cell_type": "code",
   "execution_count": 18,
   "metadata": {},
   "outputs": [
    {
     "data": {
      "text/plain": [
       "200"
      ]
     },
     "execution_count": 18,
     "metadata": {},
     "output_type": "execute_result"
    }
   ],
   "source": [
    "data.status_code"
   ]
  },
  {
   "cell_type": "code",
   "execution_count": 21,
   "metadata": {},
   "outputs": [
    {
     "data": {
      "text/plain": [
       "bytes"
      ]
     },
     "execution_count": 21,
     "metadata": {},
     "output_type": "execute_result"
    }
   ],
   "source": [
    "type(data.content)"
   ]
  },
  {
   "cell_type": "code",
   "execution_count": 22,
   "metadata": {},
   "outputs": [
    {
     "data": {
      "text/plain": [
       "str"
      ]
     },
     "execution_count": 22,
     "metadata": {},
     "output_type": "execute_result"
    }
   ],
   "source": [
    "type(data.text)"
   ]
  },
  {
   "cell_type": "code",
   "execution_count": 25,
   "metadata": {},
   "outputs": [
    {
     "data": {
      "text/plain": [
       "'{\"id\":\"3091554667624627\",\"name\":\"Simran Grover\"}'"
      ]
     },
     "execution_count": 25,
     "metadata": {},
     "output_type": "execute_result"
    }
   ],
   "source": [
    "data.text"
   ]
  },
  {
   "cell_type": "code",
   "execution_count": 27,
   "metadata": {},
   "outputs": [
    {
     "data": {
      "text/plain": [
       "'3091554667624627'"
      ]
     },
     "execution_count": 27,
     "metadata": {},
     "output_type": "execute_result"
    }
   ],
   "source": [
    "data.json()[\"id\"]"
   ]
  },
  {
   "cell_type": "code",
   "execution_count": 28,
   "metadata": {},
   "outputs": [
    {
     "data": {
      "text/plain": [
       "'Simran Grover'"
      ]
     },
     "execution_count": 28,
     "metadata": {},
     "output_type": "execute_result"
    }
   ],
   "source": [
    "data.json()[\"name\"]"
   ]
  },
  {
   "cell_type": "code",
   "execution_count": 29,
   "metadata": {},
   "outputs": [
    {
     "name": "stdout",
     "output_type": "stream",
     "text": [
      "\n",
      " Enter your fields , separated : id,name,posts,likes\n",
      "{'id': '3091554667624627', 'name': 'Simran Grover', 'posts': {'data': [{'created_time': '2020-06-06T13:26:13+0000', 'id': '3091554667624627_3050666135046814'}, {'message': 'Omg 6 years back Prateek Pasricha Sonam Grover🤣🤣', 'created_time': '2020-06-01T17:52:28+0000', 'id': '3091554667624627_3038494352930659'}, {'message': 'Proud❤️😇', 'created_time': '2020-05-12T07:47:58+0000', 'id': '3091554667624627_2987979897982105'}, {'created_time': '2020-05-07T10:03:04+0000', 'id': '3091554667624627_2976948349085260'}, {'created_time': '2020-05-04T04:20:27+0000', 'id': '3091554667624627_2969687816477980'}, {'created_time': '2020-03-19T12:42:16+0000', 'id': '3091554667624627_2868820909898005'}, {'message': 'Too hard to carry😪', 'created_time': '2020-02-25T14:17:58+0000', 'id': '3091554667624627_2821500974629999'}, {'created_time': '2019-10-13T02:32:53+0000', 'id': '3091554667624627_2536022416511191'}, {'created_time': '2019-09-20T06:27:15+0000', 'id': '3091554667624627_2485729834873783'}, {'message': 'Hey babe ♥️ Muskan Batra birthday soon🤩', 'created_time': '2019-08-19T17:06:58+0000', 'id': '3091554667624627_2428307400616027'}, {'created_time': '2019-08-18T19:33:54+0000', 'id': '3091554667624627_2426749554105145'}, {'created_time': '2019-07-28T02:57:25+0000', 'id': '3091554667624627_2390061257773975'}, {'created_time': '2019-07-15T05:36:27+0000', 'id': '3091554667624627_2367914416655326'}, {'message': 'Now only this picture is left Sonam Grover🤣', 'created_time': '2019-05-28T15:40:57+0000', 'id': '3091554667624627_2285031841610251'}, {'created_time': '2019-05-26T10:14:05+0000', 'id': '3091554667624627_2281341411979294'}, {'created_time': '2019-05-25T09:55:35+0000', 'id': '3091554667624627_2279649135481855'}, {'created_time': '2019-05-03T13:56:42+0000', 'id': '3091554667624627_2244574925655943'}, {'created_time': '2019-04-23T18:22:52+0000', 'id': '3091554667624627_2229682317145204'}, {'created_time': '2019-03-31T08:02:22+0000', 'id': '3091554667624627_2194347604012009'}, {'created_time': '2019-03-07T18:42:12+0000', 'id': '3091554667624627_2161371100642993'}, {'created_time': '2019-02-21T17:12:29+0000', 'id': '3091554667624627_2140903952689708'}, {'created_time': '2019-02-12T14:58:08+0000', 'id': '3091554667624627_2126090164171087'}, {'created_time': '2019-01-30T13:35:44+0000', 'id': '3091554667624627_2106467709466666'}], 'paging': {'previous': 'https://graph.facebook.com/v7.0/3091554667624627/posts?since=1591449973&access_token=EAAIEVOKyhdcBAIMZCzLIqEn9rUK6D5KZCx7cwcBgEXW8ftL4DeJmXdlCk7NOspqypwcRaDHSce0NxH3H8YF6qs7iKXnFIIEfQXhmDb91fWzAbD39q9zTCU9rsGMXMhKn6ZCHNBMO2p7jbyZBsSkNtBeqZAOEDZAMWwEjUsrXg08DuX2ZAgB7rIBDfuLqRn2a367jH6CHEUXq94DiZCbT9PMnU7LNZCZAEm9ISgpgr5ea2sVwZDZD&limit=25&__paging_token=enc_AdBJhnOB23aQf0K2T5rJkHQnX7U8vYEVrjJrqpkiZAycuaj97jfzpfKooIZCi2ncXBtUByobl4FbKkgjJAAtw5UKeEEnaKDpNa4Xbk5yQ04M2M5gZDZD&__previous=1', 'next': 'https://graph.facebook.com/v7.0/3091554667624627/posts?access_token=EAAIEVOKyhdcBAIMZCzLIqEn9rUK6D5KZCx7cwcBgEXW8ftL4DeJmXdlCk7NOspqypwcRaDHSce0NxH3H8YF6qs7iKXnFIIEfQXhmDb91fWzAbD39q9zTCU9rsGMXMhKn6ZCHNBMO2p7jbyZBsSkNtBeqZAOEDZAMWwEjUsrXg08DuX2ZAgB7rIBDfuLqRn2a367jH6CHEUXq94DiZCbT9PMnU7LNZCZAEm9ISgpgr5ea2sVwZDZD&limit=25&until=1548855344&__paging_token=enc_AdCui9A3VWE8qXxLCYjiMM5ELkMdESdFCp0JBgsZB9p67YWqZA1oRLfQsis0Pgqs4dk1ZCKOKPCevETV05gew1nxuk8kbgG38ZBoZALzhZAXEcb3RpnwZDZD'}}, 'likes': {'data': [{'name': 'Saanvi collection', 'id': '109191687487224', 'created_time': '2020-06-12T13:11:18+0000'}, {'name': 'BeerBiceps', 'id': '445275555654498', 'created_time': '2020-06-06T13:26:28+0000'}, {'name': 'Buzz For 7', 'id': '107068317385124', 'created_time': '2019-11-08T08:11:07+0000'}, {'name': 'अनheard by STAGE', 'id': '1532855873408620', 'created_time': '2019-10-28T16:18:51+0000'}, {'name': 'Pixel Dabba', 'id': '1996350760479287', 'created_time': '2019-10-27T19:18:09+0000'}, {'name': 'Syed Umar', 'id': '393503434321598', 'created_time': '2019-10-24T07:25:25+0000'}, {'name': 'GRRAS Indore', 'id': '231739201087054', 'created_time': '2019-10-07T11:15:11+0000'}, {'name': 'Peace_photography', 'id': '108078340569057', 'created_time': '2019-08-30T15:06:26+0000'}, {'name': 'Kalaa', 'id': '449216955828260', 'created_time': '2019-06-14T17:27:37+0000'}, {'name': 'Placement Committee, JEC', 'id': '1403206889897085', 'created_time': '2019-06-12T18:41:19+0000'}, {'name': 'RTU Updates', 'id': '241278525937354', 'created_time': '2019-04-23T18:26:02+0000'}, {'name': 'MongoDB', 'id': '397955415556', 'created_time': '2019-04-21T14:26:00+0000'}, {'name': 'The Relevant Vibes', 'id': '1943245152656532', 'created_time': '2019-04-14T07:53:29+0000'}, {'name': 'DataCamp', 'id': '726282547396228', 'created_time': '2019-03-21T05:38:54+0000'}, {'name': 'SmartSky', 'id': '756335441404664', 'created_time': '2019-03-08T16:09:37+0000'}, {'name': 'Market With Maddy', 'id': '2230717767170777', 'created_time': '2019-02-14T15:44:22+0000'}, {'name': 'Amandeep Singh', 'id': '639667023089568', 'created_time': '2019-01-17T19:30:08+0000'}, {'name': 'Screaming.Survivals', 'id': '279515369374138', 'created_time': '2018-12-14T15:33:21+0000'}, {'name': 'ChocoMojo.in', 'id': '353252715430976', 'created_time': '2018-12-14T15:33:20+0000'}, {'name': 'INJIR', 'id': '370843043657900', 'created_time': '2018-11-02T13:57:15+0000'}, {'name': '(Legacy) SheLeadsTech India', 'id': '1701002663274176', 'created_time': '2018-09-23T18:21:23+0000'}, {'name': 'AadharShala', 'id': '1936939036353629', 'created_time': '2018-09-02T19:35:32+0000'}, {'name': 'Aptech Learning Academy', 'id': '339283523477340', 'created_time': '2018-08-28T10:54:31+0000'}, {'name': 'GRRAS Solutions Pvt. Ltd.', 'id': '1039043886110312', 'created_time': '2018-08-17T17:21:38+0000'}, {'name': 'Android App Info', 'id': '1040471519439210', 'created_time': '2018-06-24T07:45:03+0000'}], 'paging': {'cursors': {'before': 'MTA5MTkxNjg3NDg3MjI0', 'after': 'MTA0MDQ3MTUxOTQzOTIxMAZDZD'}, 'next': 'https://graph.facebook.com/v7.0/3091554667624627/likes?access_token=EAAIEVOKyhdcBAIMZCzLIqEn9rUK6D5KZCx7cwcBgEXW8ftL4DeJmXdlCk7NOspqypwcRaDHSce0NxH3H8YF6qs7iKXnFIIEfQXhmDb91fWzAbD39q9zTCU9rsGMXMhKn6ZCHNBMO2p7jbyZBsSkNtBeqZAOEDZAMWwEjUsrXg08DuX2ZAgB7rIBDfuLqRn2a367jH6CHEUXq94DiZCbT9PMnU7LNZCZAEm9ISgpgr5ea2sVwZDZD&limit=25&after=MTA0MDQ3MTUxOTQzOTIxMAZDZD'}}}\n"
     ]
    }
   ],
   "source": [
    "key = \"EAAIEVOKyhdcBAIMZCzLIqEn9rUK6D5KZCx7cwcBgEXW8ftL4DeJmXdlCk7NOspqypwcRaDHSce0NxH3H8YF6qs7iKXnFIIEfQXhmDb91fWzAbD39q9zTCU9rsGMXMhKn6ZCHNBMO2p7jbyZBsSkNtBeqZAOEDZAMWwEjUsrXg08DuX2ZAgB7rIBDfuLqRn2a367jH6CHEUXq94DiZCbT9PMnU7LNZCZAEm9ISgpgr5ea2sVwZDZD\"\n",
    "fields = input(\"\\n Enter your fields , separated : \")\n",
    "if \",\" in fields:\n",
    "    url = f\"https://graph.facebook.com/v7.0/me?fields={fields}&access_token={key}\"\n",
    "    data = requests.get(url)\n",
    "    if data.status_code == 200:\n",
    "        data = data.json()\n",
    "        print(data)\n",
    "    else:\n",
    "        print(data.status_code)\n",
    "        print(\"\\n Invalid code.....\")\n",
    "else:\n",
    "    print(\"\\n Invalid input\")"
   ]
  },
  {
   "cell_type": "code",
   "execution_count": 30,
   "metadata": {},
   "outputs": [
    {
     "data": {
      "text/plain": [
       "{'id': '3091554667624627',\n",
       " 'name': 'Simran Grover',\n",
       " 'posts': {'data': [{'created_time': '2020-06-06T13:26:13+0000',\n",
       "    'id': '3091554667624627_3050666135046814'},\n",
       "   {'message': 'Omg 6 years back Prateek Pasricha Sonam Grover🤣🤣',\n",
       "    'created_time': '2020-06-01T17:52:28+0000',\n",
       "    'id': '3091554667624627_3038494352930659'},\n",
       "   {'message': 'Proud❤️😇',\n",
       "    'created_time': '2020-05-12T07:47:58+0000',\n",
       "    'id': '3091554667624627_2987979897982105'},\n",
       "   {'created_time': '2020-05-07T10:03:04+0000',\n",
       "    'id': '3091554667624627_2976948349085260'},\n",
       "   {'created_time': '2020-05-04T04:20:27+0000',\n",
       "    'id': '3091554667624627_2969687816477980'},\n",
       "   {'created_time': '2020-03-19T12:42:16+0000',\n",
       "    'id': '3091554667624627_2868820909898005'},\n",
       "   {'message': 'Too hard to carry😪',\n",
       "    'created_time': '2020-02-25T14:17:58+0000',\n",
       "    'id': '3091554667624627_2821500974629999'},\n",
       "   {'created_time': '2019-10-13T02:32:53+0000',\n",
       "    'id': '3091554667624627_2536022416511191'},\n",
       "   {'created_time': '2019-09-20T06:27:15+0000',\n",
       "    'id': '3091554667624627_2485729834873783'},\n",
       "   {'message': 'Hey babe ♥️ Muskan Batra birthday soon🤩',\n",
       "    'created_time': '2019-08-19T17:06:58+0000',\n",
       "    'id': '3091554667624627_2428307400616027'},\n",
       "   {'created_time': '2019-08-18T19:33:54+0000',\n",
       "    'id': '3091554667624627_2426749554105145'},\n",
       "   {'created_time': '2019-07-28T02:57:25+0000',\n",
       "    'id': '3091554667624627_2390061257773975'},\n",
       "   {'created_time': '2019-07-15T05:36:27+0000',\n",
       "    'id': '3091554667624627_2367914416655326'},\n",
       "   {'message': 'Now only this picture is left Sonam Grover🤣',\n",
       "    'created_time': '2019-05-28T15:40:57+0000',\n",
       "    'id': '3091554667624627_2285031841610251'},\n",
       "   {'created_time': '2019-05-26T10:14:05+0000',\n",
       "    'id': '3091554667624627_2281341411979294'},\n",
       "   {'created_time': '2019-05-25T09:55:35+0000',\n",
       "    'id': '3091554667624627_2279649135481855'},\n",
       "   {'created_time': '2019-05-03T13:56:42+0000',\n",
       "    'id': '3091554667624627_2244574925655943'},\n",
       "   {'created_time': '2019-04-23T18:22:52+0000',\n",
       "    'id': '3091554667624627_2229682317145204'},\n",
       "   {'created_time': '2019-03-31T08:02:22+0000',\n",
       "    'id': '3091554667624627_2194347604012009'},\n",
       "   {'created_time': '2019-03-07T18:42:12+0000',\n",
       "    'id': '3091554667624627_2161371100642993'},\n",
       "   {'created_time': '2019-02-21T17:12:29+0000',\n",
       "    'id': '3091554667624627_2140903952689708'},\n",
       "   {'created_time': '2019-02-12T14:58:08+0000',\n",
       "    'id': '3091554667624627_2126090164171087'},\n",
       "   {'created_time': '2019-01-30T13:35:44+0000',\n",
       "    'id': '3091554667624627_2106467709466666'}],\n",
       "  'paging': {'previous': 'https://graph.facebook.com/v7.0/3091554667624627/posts?since=1591449973&access_token=EAAIEVOKyhdcBAIMZCzLIqEn9rUK6D5KZCx7cwcBgEXW8ftL4DeJmXdlCk7NOspqypwcRaDHSce0NxH3H8YF6qs7iKXnFIIEfQXhmDb91fWzAbD39q9zTCU9rsGMXMhKn6ZCHNBMO2p7jbyZBsSkNtBeqZAOEDZAMWwEjUsrXg08DuX2ZAgB7rIBDfuLqRn2a367jH6CHEUXq94DiZCbT9PMnU7LNZCZAEm9ISgpgr5ea2sVwZDZD&limit=25&__paging_token=enc_AdBJhnOB23aQf0K2T5rJkHQnX7U8vYEVrjJrqpkiZAycuaj97jfzpfKooIZCi2ncXBtUByobl4FbKkgjJAAtw5UKeEEnaKDpNa4Xbk5yQ04M2M5gZDZD&__previous=1',\n",
       "   'next': 'https://graph.facebook.com/v7.0/3091554667624627/posts?access_token=EAAIEVOKyhdcBAIMZCzLIqEn9rUK6D5KZCx7cwcBgEXW8ftL4DeJmXdlCk7NOspqypwcRaDHSce0NxH3H8YF6qs7iKXnFIIEfQXhmDb91fWzAbD39q9zTCU9rsGMXMhKn6ZCHNBMO2p7jbyZBsSkNtBeqZAOEDZAMWwEjUsrXg08DuX2ZAgB7rIBDfuLqRn2a367jH6CHEUXq94DiZCbT9PMnU7LNZCZAEm9ISgpgr5ea2sVwZDZD&limit=25&until=1548855344&__paging_token=enc_AdCui9A3VWE8qXxLCYjiMM5ELkMdESdFCp0JBgsZB9p67YWqZA1oRLfQsis0Pgqs4dk1ZCKOKPCevETV05gew1nxuk8kbgG38ZBoZALzhZAXEcb3RpnwZDZD'}},\n",
       " 'likes': {'data': [{'name': 'Saanvi collection',\n",
       "    'id': '109191687487224',\n",
       "    'created_time': '2020-06-12T13:11:18+0000'},\n",
       "   {'name': 'BeerBiceps',\n",
       "    'id': '445275555654498',\n",
       "    'created_time': '2020-06-06T13:26:28+0000'},\n",
       "   {'name': 'Buzz For 7',\n",
       "    'id': '107068317385124',\n",
       "    'created_time': '2019-11-08T08:11:07+0000'},\n",
       "   {'name': 'अनheard by STAGE',\n",
       "    'id': '1532855873408620',\n",
       "    'created_time': '2019-10-28T16:18:51+0000'},\n",
       "   {'name': 'Pixel Dabba',\n",
       "    'id': '1996350760479287',\n",
       "    'created_time': '2019-10-27T19:18:09+0000'},\n",
       "   {'name': 'Syed Umar',\n",
       "    'id': '393503434321598',\n",
       "    'created_time': '2019-10-24T07:25:25+0000'},\n",
       "   {'name': 'GRRAS Indore',\n",
       "    'id': '231739201087054',\n",
       "    'created_time': '2019-10-07T11:15:11+0000'},\n",
       "   {'name': 'Peace_photography',\n",
       "    'id': '108078340569057',\n",
       "    'created_time': '2019-08-30T15:06:26+0000'},\n",
       "   {'name': 'Kalaa',\n",
       "    'id': '449216955828260',\n",
       "    'created_time': '2019-06-14T17:27:37+0000'},\n",
       "   {'name': 'Placement Committee, JEC',\n",
       "    'id': '1403206889897085',\n",
       "    'created_time': '2019-06-12T18:41:19+0000'},\n",
       "   {'name': 'RTU Updates',\n",
       "    'id': '241278525937354',\n",
       "    'created_time': '2019-04-23T18:26:02+0000'},\n",
       "   {'name': 'MongoDB',\n",
       "    'id': '397955415556',\n",
       "    'created_time': '2019-04-21T14:26:00+0000'},\n",
       "   {'name': 'The Relevant Vibes',\n",
       "    'id': '1943245152656532',\n",
       "    'created_time': '2019-04-14T07:53:29+0000'},\n",
       "   {'name': 'DataCamp',\n",
       "    'id': '726282547396228',\n",
       "    'created_time': '2019-03-21T05:38:54+0000'},\n",
       "   {'name': 'SmartSky',\n",
       "    'id': '756335441404664',\n",
       "    'created_time': '2019-03-08T16:09:37+0000'},\n",
       "   {'name': 'Market With Maddy',\n",
       "    'id': '2230717767170777',\n",
       "    'created_time': '2019-02-14T15:44:22+0000'},\n",
       "   {'name': 'Amandeep Singh',\n",
       "    'id': '639667023089568',\n",
       "    'created_time': '2019-01-17T19:30:08+0000'},\n",
       "   {'name': 'Screaming.Survivals',\n",
       "    'id': '279515369374138',\n",
       "    'created_time': '2018-12-14T15:33:21+0000'},\n",
       "   {'name': 'ChocoMojo.in',\n",
       "    'id': '353252715430976',\n",
       "    'created_time': '2018-12-14T15:33:20+0000'},\n",
       "   {'name': 'INJIR',\n",
       "    'id': '370843043657900',\n",
       "    'created_time': '2018-11-02T13:57:15+0000'},\n",
       "   {'name': '(Legacy) SheLeadsTech India',\n",
       "    'id': '1701002663274176',\n",
       "    'created_time': '2018-09-23T18:21:23+0000'},\n",
       "   {'name': 'AadharShala',\n",
       "    'id': '1936939036353629',\n",
       "    'created_time': '2018-09-02T19:35:32+0000'},\n",
       "   {'name': 'Aptech Learning Academy',\n",
       "    'id': '339283523477340',\n",
       "    'created_time': '2018-08-28T10:54:31+0000'},\n",
       "   {'name': 'GRRAS Solutions Pvt. Ltd.',\n",
       "    'id': '1039043886110312',\n",
       "    'created_time': '2018-08-17T17:21:38+0000'},\n",
       "   {'name': 'Android App Info',\n",
       "    'id': '1040471519439210',\n",
       "    'created_time': '2018-06-24T07:45:03+0000'}],\n",
       "  'paging': {'cursors': {'before': 'MTA5MTkxNjg3NDg3MjI0',\n",
       "    'after': 'MTA0MDQ3MTUxOTQzOTIxMAZDZD'},\n",
       "   'next': 'https://graph.facebook.com/v7.0/3091554667624627/likes?access_token=EAAIEVOKyhdcBAIMZCzLIqEn9rUK6D5KZCx7cwcBgEXW8ftL4DeJmXdlCk7NOspqypwcRaDHSce0NxH3H8YF6qs7iKXnFIIEfQXhmDb91fWzAbD39q9zTCU9rsGMXMhKn6ZCHNBMO2p7jbyZBsSkNtBeqZAOEDZAMWwEjUsrXg08DuX2ZAgB7rIBDfuLqRn2a367jH6CHEUXq94DiZCbT9PMnU7LNZCZAEm9ISgpgr5ea2sVwZDZD&limit=25&after=MTA0MDQ3MTUxOTQzOTIxMAZDZD'}}}"
      ]
     },
     "execution_count": 30,
     "metadata": {},
     "output_type": "execute_result"
    }
   ],
   "source": [
    "data"
   ]
  },
  {
   "cell_type": "code",
   "execution_count": 31,
   "metadata": {},
   "outputs": [],
   "source": [
    "from pprint import pprint"
   ]
  },
  {
   "cell_type": "code",
   "execution_count": 32,
   "metadata": {},
   "outputs": [
    {
     "name": "stdout",
     "output_type": "stream",
     "text": [
      "{'id': '3091554667624627',\n",
      " 'likes': {'data': [{'created_time': '2020-06-12T13:11:18+0000',\n",
      "                     'id': '109191687487224',\n",
      "                     'name': 'Saanvi collection'},\n",
      "                    {'created_time': '2020-06-06T13:26:28+0000',\n",
      "                     'id': '445275555654498',\n",
      "                     'name': 'BeerBiceps'},\n",
      "                    {'created_time': '2019-11-08T08:11:07+0000',\n",
      "                     'id': '107068317385124',\n",
      "                     'name': 'Buzz For 7'},\n",
      "                    {'created_time': '2019-10-28T16:18:51+0000',\n",
      "                     'id': '1532855873408620',\n",
      "                     'name': 'अनheard by STAGE'},\n",
      "                    {'created_time': '2019-10-27T19:18:09+0000',\n",
      "                     'id': '1996350760479287',\n",
      "                     'name': 'Pixel Dabba'},\n",
      "                    {'created_time': '2019-10-24T07:25:25+0000',\n",
      "                     'id': '393503434321598',\n",
      "                     'name': 'Syed Umar'},\n",
      "                    {'created_time': '2019-10-07T11:15:11+0000',\n",
      "                     'id': '231739201087054',\n",
      "                     'name': 'GRRAS Indore'},\n",
      "                    {'created_time': '2019-08-30T15:06:26+0000',\n",
      "                     'id': '108078340569057',\n",
      "                     'name': 'Peace_photography'},\n",
      "                    {'created_time': '2019-06-14T17:27:37+0000',\n",
      "                     'id': '449216955828260',\n",
      "                     'name': 'Kalaa'},\n",
      "                    {'created_time': '2019-06-12T18:41:19+0000',\n",
      "                     'id': '1403206889897085',\n",
      "                     'name': 'Placement Committee, JEC'},\n",
      "                    {'created_time': '2019-04-23T18:26:02+0000',\n",
      "                     'id': '241278525937354',\n",
      "                     'name': 'RTU Updates'},\n",
      "                    {'created_time': '2019-04-21T14:26:00+0000',\n",
      "                     'id': '397955415556',\n",
      "                     'name': 'MongoDB'},\n",
      "                    {'created_time': '2019-04-14T07:53:29+0000',\n",
      "                     'id': '1943245152656532',\n",
      "                     'name': 'The Relevant Vibes'},\n",
      "                    {'created_time': '2019-03-21T05:38:54+0000',\n",
      "                     'id': '726282547396228',\n",
      "                     'name': 'DataCamp'},\n",
      "                    {'created_time': '2019-03-08T16:09:37+0000',\n",
      "                     'id': '756335441404664',\n",
      "                     'name': 'SmartSky'},\n",
      "                    {'created_time': '2019-02-14T15:44:22+0000',\n",
      "                     'id': '2230717767170777',\n",
      "                     'name': 'Market With Maddy'},\n",
      "                    {'created_time': '2019-01-17T19:30:08+0000',\n",
      "                     'id': '639667023089568',\n",
      "                     'name': 'Amandeep Singh'},\n",
      "                    {'created_time': '2018-12-14T15:33:21+0000',\n",
      "                     'id': '279515369374138',\n",
      "                     'name': 'Screaming.Survivals'},\n",
      "                    {'created_time': '2018-12-14T15:33:20+0000',\n",
      "                     'id': '353252715430976',\n",
      "                     'name': 'ChocoMojo.in'},\n",
      "                    {'created_time': '2018-11-02T13:57:15+0000',\n",
      "                     'id': '370843043657900',\n",
      "                     'name': 'INJIR'},\n",
      "                    {'created_time': '2018-09-23T18:21:23+0000',\n",
      "                     'id': '1701002663274176',\n",
      "                     'name': '(Legacy) SheLeadsTech India'},\n",
      "                    {'created_time': '2018-09-02T19:35:32+0000',\n",
      "                     'id': '1936939036353629',\n",
      "                     'name': 'AadharShala'},\n",
      "                    {'created_time': '2018-08-28T10:54:31+0000',\n",
      "                     'id': '339283523477340',\n",
      "                     'name': 'Aptech Learning Academy'},\n",
      "                    {'created_time': '2018-08-17T17:21:38+0000',\n",
      "                     'id': '1039043886110312',\n",
      "                     'name': 'GRRAS Solutions Pvt. Ltd.'},\n",
      "                    {'created_time': '2018-06-24T07:45:03+0000',\n",
      "                     'id': '1040471519439210',\n",
      "                     'name': 'Android App Info'}],\n",
      "           'paging': {'cursors': {'after': 'MTA0MDQ3MTUxOTQzOTIxMAZDZD',\n",
      "                                  'before': 'MTA5MTkxNjg3NDg3MjI0'},\n",
      "                      'next': 'https://graph.facebook.com/v7.0/3091554667624627/likes?access_token=EAAIEVOKyhdcBAIMZCzLIqEn9rUK6D5KZCx7cwcBgEXW8ftL4DeJmXdlCk7NOspqypwcRaDHSce0NxH3H8YF6qs7iKXnFIIEfQXhmDb91fWzAbD39q9zTCU9rsGMXMhKn6ZCHNBMO2p7jbyZBsSkNtBeqZAOEDZAMWwEjUsrXg08DuX2ZAgB7rIBDfuLqRn2a367jH6CHEUXq94DiZCbT9PMnU7LNZCZAEm9ISgpgr5ea2sVwZDZD&limit=25&after=MTA0MDQ3MTUxOTQzOTIxMAZDZD'}},\n",
      " 'name': 'Simran Grover',\n",
      " 'posts': {'data': [{'created_time': '2020-06-06T13:26:13+0000',\n",
      "                     'id': '3091554667624627_3050666135046814'},\n",
      "                    {'created_time': '2020-06-01T17:52:28+0000',\n",
      "                     'id': '3091554667624627_3038494352930659',\n",
      "                     'message': 'Omg 6 years back Prateek Pasricha Sonam '\n",
      "                                'Grover🤣🤣'},\n",
      "                    {'created_time': '2020-05-12T07:47:58+0000',\n",
      "                     'id': '3091554667624627_2987979897982105',\n",
      "                     'message': 'Proud❤️😇'},\n",
      "                    {'created_time': '2020-05-07T10:03:04+0000',\n",
      "                     'id': '3091554667624627_2976948349085260'},\n",
      "                    {'created_time': '2020-05-04T04:20:27+0000',\n",
      "                     'id': '3091554667624627_2969687816477980'},\n",
      "                    {'created_time': '2020-03-19T12:42:16+0000',\n",
      "                     'id': '3091554667624627_2868820909898005'},\n",
      "                    {'created_time': '2020-02-25T14:17:58+0000',\n",
      "                     'id': '3091554667624627_2821500974629999',\n",
      "                     'message': 'Too hard to carry😪'},\n",
      "                    {'created_time': '2019-10-13T02:32:53+0000',\n",
      "                     'id': '3091554667624627_2536022416511191'},\n",
      "                    {'created_time': '2019-09-20T06:27:15+0000',\n",
      "                     'id': '3091554667624627_2485729834873783'},\n",
      "                    {'created_time': '2019-08-19T17:06:58+0000',\n",
      "                     'id': '3091554667624627_2428307400616027',\n",
      "                     'message': 'Hey babe ♥️ Muskan Batra birthday soon🤩'},\n",
      "                    {'created_time': '2019-08-18T19:33:54+0000',\n",
      "                     'id': '3091554667624627_2426749554105145'},\n",
      "                    {'created_time': '2019-07-28T02:57:25+0000',\n",
      "                     'id': '3091554667624627_2390061257773975'},\n",
      "                    {'created_time': '2019-07-15T05:36:27+0000',\n",
      "                     'id': '3091554667624627_2367914416655326'},\n",
      "                    {'created_time': '2019-05-28T15:40:57+0000',\n",
      "                     'id': '3091554667624627_2285031841610251',\n",
      "                     'message': 'Now only this picture is left Sonam Grover🤣'},\n",
      "                    {'created_time': '2019-05-26T10:14:05+0000',\n",
      "                     'id': '3091554667624627_2281341411979294'},\n",
      "                    {'created_time': '2019-05-25T09:55:35+0000',\n",
      "                     'id': '3091554667624627_2279649135481855'},\n",
      "                    {'created_time': '2019-05-03T13:56:42+0000',\n",
      "                     'id': '3091554667624627_2244574925655943'},\n",
      "                    {'created_time': '2019-04-23T18:22:52+0000',\n",
      "                     'id': '3091554667624627_2229682317145204'},\n",
      "                    {'created_time': '2019-03-31T08:02:22+0000',\n",
      "                     'id': '3091554667624627_2194347604012009'},\n",
      "                    {'created_time': '2019-03-07T18:42:12+0000',\n",
      "                     'id': '3091554667624627_2161371100642993'},\n",
      "                    {'created_time': '2019-02-21T17:12:29+0000',\n",
      "                     'id': '3091554667624627_2140903952689708'},\n",
      "                    {'created_time': '2019-02-12T14:58:08+0000',\n",
      "                     'id': '3091554667624627_2126090164171087'},\n",
      "                    {'created_time': '2019-01-30T13:35:44+0000',\n",
      "                     'id': '3091554667624627_2106467709466666'}],\n",
      "           'paging': {'next': 'https://graph.facebook.com/v7.0/3091554667624627/posts?access_token=EAAIEVOKyhdcBAIMZCzLIqEn9rUK6D5KZCx7cwcBgEXW8ftL4DeJmXdlCk7NOspqypwcRaDHSce0NxH3H8YF6qs7iKXnFIIEfQXhmDb91fWzAbD39q9zTCU9rsGMXMhKn6ZCHNBMO2p7jbyZBsSkNtBeqZAOEDZAMWwEjUsrXg08DuX2ZAgB7rIBDfuLqRn2a367jH6CHEUXq94DiZCbT9PMnU7LNZCZAEm9ISgpgr5ea2sVwZDZD&limit=25&until=1548855344&__paging_token=enc_AdCui9A3VWE8qXxLCYjiMM5ELkMdESdFCp0JBgsZB9p67YWqZA1oRLfQsis0Pgqs4dk1ZCKOKPCevETV05gew1nxuk8kbgG38ZBoZALzhZAXEcb3RpnwZDZD',\n",
      "                      'previous': 'https://graph.facebook.com/v7.0/3091554667624627/posts?since=1591449973&access_token=EAAIEVOKyhdcBAIMZCzLIqEn9rUK6D5KZCx7cwcBgEXW8ftL4DeJmXdlCk7NOspqypwcRaDHSce0NxH3H8YF6qs7iKXnFIIEfQXhmDb91fWzAbD39q9zTCU9rsGMXMhKn6ZCHNBMO2p7jbyZBsSkNtBeqZAOEDZAMWwEjUsrXg08DuX2ZAgB7rIBDfuLqRn2a367jH6CHEUXq94DiZCbT9PMnU7LNZCZAEm9ISgpgr5ea2sVwZDZD&limit=25&__paging_token=enc_AdBJhnOB23aQf0K2T5rJkHQnX7U8vYEVrjJrqpkiZAycuaj97jfzpfKooIZCi2ncXBtUByobl4FbKkgjJAAtw5UKeEEnaKDpNa4Xbk5yQ04M2M5gZDZD&__previous=1'}}}\n"
     ]
    }
   ],
   "source": [
    "pprint(data)"
   ]
  },
  {
   "cell_type": "code",
   "execution_count": 35,
   "metadata": {},
   "outputs": [
    {
     "data": {
      "text/plain": [
       "{'name': 'Syed Umar',\n",
       " 'id': '393503434321598',\n",
       " 'created_time': '2019-10-24T07:25:25+0000'}"
      ]
     },
     "execution_count": 35,
     "metadata": {},
     "output_type": "execute_result"
    }
   ],
   "source": [
    "data['likes']['data'][5]"
   ]
  },
  {
   "cell_type": "code",
   "execution_count": 38,
   "metadata": {},
   "outputs": [
    {
     "data": {
      "text/plain": [
       "['id', 'name', 'posts', 'likes']"
      ]
     },
     "execution_count": 38,
     "metadata": {},
     "output_type": "execute_result"
    }
   ],
   "source": [
    "fields.split(\",\")"
   ]
  },
  {
   "cell_type": "code",
   "execution_count": 41,
   "metadata": {},
   "outputs": [
    {
     "data": {
      "text/plain": [
       "[{'created_time': '2020-06-06T13:26:13+0000',\n",
       "  'id': '3091554667624627_3050666135046814'},\n",
       " {'message': 'Omg 6 years back Prateek Pasricha Sonam Grover🤣🤣',\n",
       "  'created_time': '2020-06-01T17:52:28+0000',\n",
       "  'id': '3091554667624627_3038494352930659'},\n",
       " {'message': 'Proud❤️😇',\n",
       "  'created_time': '2020-05-12T07:47:58+0000',\n",
       "  'id': '3091554667624627_2987979897982105'},\n",
       " {'created_time': '2020-05-07T10:03:04+0000',\n",
       "  'id': '3091554667624627_2976948349085260'},\n",
       " {'created_time': '2020-05-04T04:20:27+0000',\n",
       "  'id': '3091554667624627_2969687816477980'},\n",
       " {'created_time': '2020-03-19T12:42:16+0000',\n",
       "  'id': '3091554667624627_2868820909898005'},\n",
       " {'message': 'Too hard to carry😪',\n",
       "  'created_time': '2020-02-25T14:17:58+0000',\n",
       "  'id': '3091554667624627_2821500974629999'},\n",
       " {'created_time': '2019-10-13T02:32:53+0000',\n",
       "  'id': '3091554667624627_2536022416511191'},\n",
       " {'created_time': '2019-09-20T06:27:15+0000',\n",
       "  'id': '3091554667624627_2485729834873783'},\n",
       " {'message': 'Hey babe ♥️ Muskan Batra birthday soon🤩',\n",
       "  'created_time': '2019-08-19T17:06:58+0000',\n",
       "  'id': '3091554667624627_2428307400616027'},\n",
       " {'created_time': '2019-08-18T19:33:54+0000',\n",
       "  'id': '3091554667624627_2426749554105145'},\n",
       " {'created_time': '2019-07-28T02:57:25+0000',\n",
       "  'id': '3091554667624627_2390061257773975'},\n",
       " {'created_time': '2019-07-15T05:36:27+0000',\n",
       "  'id': '3091554667624627_2367914416655326'},\n",
       " {'message': 'Now only this picture is left Sonam Grover🤣',\n",
       "  'created_time': '2019-05-28T15:40:57+0000',\n",
       "  'id': '3091554667624627_2285031841610251'},\n",
       " {'created_time': '2019-05-26T10:14:05+0000',\n",
       "  'id': '3091554667624627_2281341411979294'},\n",
       " {'created_time': '2019-05-25T09:55:35+0000',\n",
       "  'id': '3091554667624627_2279649135481855'},\n",
       " {'created_time': '2019-05-03T13:56:42+0000',\n",
       "  'id': '3091554667624627_2244574925655943'},\n",
       " {'created_time': '2019-04-23T18:22:52+0000',\n",
       "  'id': '3091554667624627_2229682317145204'},\n",
       " {'created_time': '2019-03-31T08:02:22+0000',\n",
       "  'id': '3091554667624627_2194347604012009'},\n",
       " {'created_time': '2019-03-07T18:42:12+0000',\n",
       "  'id': '3091554667624627_2161371100642993'},\n",
       " {'created_time': '2019-02-21T17:12:29+0000',\n",
       "  'id': '3091554667624627_2140903952689708'},\n",
       " {'created_time': '2019-02-12T14:58:08+0000',\n",
       "  'id': '3091554667624627_2126090164171087'},\n",
       " {'created_time': '2019-01-30T13:35:44+0000',\n",
       "  'id': '3091554667624627_2106467709466666'}]"
      ]
     },
     "execution_count": 41,
     "metadata": {},
     "output_type": "execute_result"
    }
   ],
   "source": [
    "data['posts']['data']"
   ]
  },
  {
   "cell_type": "code",
   "execution_count": 53,
   "metadata": {},
   "outputs": [
    {
     "data": {
      "text/plain": [
       "{'name': 'Saanvi collection',\n",
       " 'id': '109191687487224',\n",
       " 'created_time': '2020-06-12T13:11:18+0000'}"
      ]
     },
     "execution_count": 53,
     "metadata": {},
     "output_type": "execute_result"
    }
   ],
   "source": [
    "data[\"likes\"]['data'][0]"
   ]
  },
  {
   "cell_type": "code",
   "execution_count": 55,
   "metadata": {},
   "outputs": [
    {
     "name": "stdout",
     "output_type": "stream",
     "text": [
      "\n",
      " Enter your fields , separated : id,name,likes\n",
      "\n",
      " ENter name : grras\n",
      "\n",
      " Name :  GRRAS Indore\n",
      "\n",
      " Id :  231739201087054\n",
      "\n",
      " Created at :  2019-10-07T11:15:11+0000\n",
      "\n",
      " Name :  GRRAS Solutions Pvt. Ltd.\n",
      "\n",
      " Id :  1039043886110312\n",
      "\n",
      " Created at :  2018-08-17T17:21:38+0000\n"
     ]
    }
   ],
   "source": [
    "def get_fb_data(key,fields):\n",
    "    if \",\" in fields:\n",
    "        url = f\"https://graph.facebook.com/v7.0/me?fields={fields}&access_token={key}\"\n",
    "        data = requests.get(url)\n",
    "        if data.status_code == 200:\n",
    "            data = data.json()\n",
    "            if \"posts\" in fields.split(\",\"):\n",
    "                f = open(\"myposts.txt\",'a+')\n",
    "                for p in data['posts']['data']: \n",
    "                    try:\n",
    "                        f.write(p.get(\"created_time\")+\"\\t\"+p.get(\"id\")+\"\\t\"+str(p.get(\"message\")))\n",
    "                        f.write(\"\\n\")\n",
    "                    except:\n",
    "                        pass\n",
    "                f.close()\n",
    "            if \"likes\" in fields.split(\",\"):\n",
    "                name = input(\"\\n ENter name : \").lower()\n",
    "                for i in data[\"likes\"][\"data\"]:\n",
    "                    if name in i.get(\"name\").lower():\n",
    "                        print(\"\\n Name : \",i.get(\"name\"))\n",
    "                        print(\"\\n Id : \",i.get(\"id\"))\n",
    "                        print(\"\\n Created at : \",i.get(\"created_time\"))\n",
    "                    \n",
    "                \n",
    "        else:\n",
    "            print(data.status_code)\n",
    "            print(\"\\n Invalid code.....\")\n",
    "    else:\n",
    "        print(\"\\n Invalid fields\")\n",
    "        \n",
    "        \n",
    "key = \"EAAIEVOKyhdcBAIMZCzLIqEn9rUK6D5KZCx7cwcBgEXW8ftL4DeJmXdlCk7NOspqypwcRaDHSce0NxH3H8YF6qs7iKXnFIIEfQXhmDb91fWzAbD39q9zTCU9rsGMXMhKn6ZCHNBMO2p7jbyZBsSkNtBeqZAOEDZAMWwEjUsrXg08DuX2ZAgB7rIBDfuLqRn2a367jH6CHEUXq94DiZCbT9PMnU7LNZCZAEm9ISgpgr5ea2sVwZDZD\"\n",
    "fields = input(\"\\n Enter your fields , separated : \")\n",
    "get_fb_data(key,fields)\n"
   ]
  },
  {
   "cell_type": "code",
   "execution_count": 48,
   "metadata": {},
   "outputs": [
    {
     "name": "stdout",
     "output_type": "stream",
     "text": [
      "2020-06-06T13:26:13+0000\t3091554667624627_3050666135046814\tNone\n",
      "2020-06-01T17:52:28+0000\t3091554667624627_3038494352930659\tNone\n",
      "2020-05-12T07:47:58+0000\t3091554667624627_2987979897982105\tNone\n",
      "2020-05-07T10:03:04+0000\t3091554667624627_2976948349085260\tNone\n",
      "2020-05-04T04:20:27+0000\t3091554667624627_2969687816477980\tNone\n",
      "2020-03-19T12:42:16+0000\t3091554667624627_2868820909898005\tNone\n",
      "2020-02-25T14:17:58+0000\t3091554667624627_2821500974629999\tNone\n",
      "2019-10-13T02:32:53+0000\t3091554667624627_2536022416511191\tNone\n",
      "2019-09-20T06:27:15+0000\t3091554667624627_2485729834873783\tNone\n",
      "2019-08-19T17:06:58+0000\t3091554667624627_2428307400616027\tNone\n",
      "2019-08-18T19:33:54+0000\t3091554667624627_2426749554105145\tNone\n",
      "2019-07-28T02:57:25+0000\t3091554667624627_2390061257773975\tNone\n",
      "2019-07-15T05:36:27+0000\t3091554667624627_2367914416655326\tNone\n",
      "2019-05-28T15:40:57+0000\t3091554667624627_2285031841610251\tNone\n",
      "2019-05-26T10:14:05+0000\t3091554667624627_2281341411979294\tNone\n",
      "2019-05-25T09:55:35+0000\t3091554667624627_2279649135481855\tNone\n",
      "2019-05-03T13:56:42+0000\t3091554667624627_2244574925655943\tNone\n",
      "2019-04-23T18:22:52+0000\t3091554667624627_2229682317145204\tNone\n",
      "2019-03-31T08:02:22+0000\t3091554667624627_2194347604012009\tNone\n",
      "2019-03-07T18:42:12+0000\t3091554667624627_2161371100642993\tNone\n",
      "2019-02-21T17:12:29+0000\t3091554667624627_2140903952689708\tNone\n",
      "2019-02-12T14:58:08+0000\t3091554667624627_2126090164171087\tNone\n",
      "2019-01-30T13:35:44+0000\t3091554667624627_2106467709466666\tNone\n",
      "2020-06-06T13:26:13+0000\t3091554667624627_3050666135046814\tNone\n",
      "2020-05-07T10:03:04+0000\t3091554667624627_2976948349085260\tNone\n",
      "2020-05-04T04:20:27+0000\t3091554667624627_2969687816477980\tNone\n",
      "2020-03-19T12:42:16+0000\t3091554667624627_2868820909898005\tNone\n",
      "2019-10-13T02:32:53+0000\t3091554667624627_2536022416511191\tNone\n",
      "2019-09-20T06:27:15+0000\t3091554667624627_2485729834873783\tNone\n",
      "2019-08-18T19:33:54+0000\t3091554667624627_2426749554105145\tNone\n",
      "2019-07-28T02:57:25+0000\t3091554667624627_2390061257773975\tNone\n",
      "2019-07-15T05:36:27+0000\t3091554667624627_2367914416655326\tNone\n",
      "2019-05-26T10:14:05+0000\t3091554667624627_2281341411979294\tNone\n",
      "2019-05-25T09:55:35+0000\t3091554667624627_2279649135481855\tNone\n",
      "2019-05-03T13:56:42+0000\t3091554667624627_2244574925655943\tNone\n",
      "2019-04-23T18:22:52+0000\t3091554667624627_2229682317145204\tNone\n",
      "2019-03-31T08:02:22+0000\t3091554667624627_2194347604012009\tNone\n",
      "2019-03-07T18:42:12+0000\t3091554667624627_2161371100642993\tNone\n",
      "2019-02-21T17:12:29+0000\t3091554667624627_2140903952689708\tNone\n",
      "2019-02-12T14:58:08+0000\t3091554667624627_2126090164171087\tNone\n",
      "2019-01-30T13:35:44+0000\t3091554667624627_2106467709466666\tNone\n",
      "\n"
     ]
    }
   ],
   "source": [
    "f = open(\"myposts.txt\")\n",
    "print(f.read())\n",
    "f.close()"
   ]
  },
  {
   "cell_type": "code",
   "execution_count": 56,
   "metadata": {},
   "outputs": [],
   "source": [
    "#weather,google map api, movie api, youtube url(videos fetch)"
   ]
  },
  {
   "cell_type": "code",
   "execution_count": null,
   "metadata": {},
   "outputs": [],
   "source": []
  }
 ],
 "metadata": {
  "kernelspec": {
   "display_name": "Python 3",
   "language": "python",
   "name": "python3"
  },
  "language_info": {
   "codemirror_mode": {
    "name": "ipython",
    "version": 3
   },
   "file_extension": ".py",
   "mimetype": "text/x-python",
   "name": "python",
   "nbconvert_exporter": "python",
   "pygments_lexer": "ipython3",
   "version": "3.7.4"
  }
 },
 "nbformat": 4,
 "nbformat_minor": 2
}
