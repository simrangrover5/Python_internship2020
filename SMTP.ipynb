{
 "cells": [
  {
   "cell_type": "markdown",
   "metadata": {},
   "source": [
    "### SMTP \n",
    "    Simple Mail Transfer Protocol\n",
    "    \n",
    "        Protocol --> rules\n",
    "        SMTP --> Intermediate\n",
    "        python ---> SMTP ---> gmail --> mail send\n",
    "        sockets --> host,port\n",
    "        SMTP --> smtp.gmail.com\n",
    "        port --> Encrption ---> SSL --> Secure Socket Layer --> 465\n",
    "                                TLS --> Transfer Layer Security --> 587\n",
    "                                \n",
    "        https --> http + s(SSL)"
   ]
  },
  {
   "cell_type": "code",
   "execution_count": 1,
   "metadata": {},
   "outputs": [],
   "source": [
    "#third party access allow --> Google"
   ]
  },
  {
   "cell_type": "code",
   "execution_count": 3,
   "metadata": {},
   "outputs": [
    {
     "name": "stdout",
     "output_type": "stream",
     "text": [
      "\n",
      " Enter your password : ········\n",
      "\n",
      " Okay successfully message send\n"
     ]
    }
   ],
   "source": [
    "import smtplib,ssl\n",
    "from getpass import getpass\n",
    "\n",
    "from_email = \"simrangrover5@gmail.com\"\n",
    "to_email = \"simrangrover5@gmail.com\"\n",
    "password = getpass(\"\\n Enter your password : \")\n",
    "\n",
    "message = \"\"\"\n",
    "Hello hi\n",
    "how are you???\n",
    "\"\"\"\n",
    "\n",
    "host = \"smtp.gmail.com\"\n",
    "port = 587\n",
    "\n",
    "context = ssl.create_default_context()  #tell the encrption protocol to be used (certificate generate)\n",
    "try:\n",
    "    with smtplib.SMTP(host,port) as server:\n",
    "        server.starttls(context=context)\n",
    "        server.login(from_email,password)\n",
    "        server.sendmail(from_email,to_email,message)\n",
    "except Exception as e:\n",
    "    print(\"Error....\",e)\n",
    "else:\n",
    "    print(\"\\n Okay successfully message send\")"
   ]
  },
  {
   "cell_type": "code",
   "execution_count": 5,
   "metadata": {},
   "outputs": [
    {
     "name": "stdout",
     "output_type": "stream",
     "text": [
      "\n",
      " Enter receiver email : nareshmahayach207@gmail.com\n",
      "\n",
      " Enter your password : ········\n",
      "\n",
      " Okay successfully message send\n"
     ]
    }
   ],
   "source": [
    "import smtplib,ssl\n",
    "from getpass import getpass\n",
    "\n",
    "from_email = \"simrangrover5@gmail.com\"\n",
    "to_email = input(\"\\n Enter receiver email : \")\n",
    "password = getpass(\"\\n Enter your password : \")\n",
    "\n",
    "message = \"\"\"\n",
    "Start doing study!!! It;s good for health\n",
    "And i Hope you understand what i teach\n",
    "\"\"\"\n",
    "\n",
    "host = \"smtp.gmail.com\"\n",
    "port = 587\n",
    "\n",
    "context = ssl.create_default_context()  #tell the encrption protocol to be used (certificate generate)\n",
    "try:\n",
    "    with smtplib.SMTP(host,port) as server:\n",
    "        server.starttls(context=context)\n",
    "        server.login(from_email,password)\n",
    "        server.sendmail(from_email,to_email,message)\n",
    "except Exception as e:\n",
    "    print(\"Error....\",e)\n",
    "else:\n",
    "    print(\"\\n Okay successfully message send\")\n",
    "    \n",
    "#message --> plain text"
   ]
  },
  {
   "cell_type": "markdown",
   "metadata": {},
   "source": [
    "    MIME ???\n",
    "    Multipurpose Internet Mail Extension"
   ]
  },
  {
   "cell_type": "code",
   "execution_count": 1,
   "metadata": {},
   "outputs": [
    {
     "name": "stdout",
     "output_type": "stream",
     "text": [
      "\n",
      " Enter your password : ········\n",
      "\n",
      " Successfully send the message\n"
     ]
    }
   ],
   "source": [
    "from email.mime.text import MIMEText\n",
    "from email.mime.multipart import MIMEMultipart\n",
    "import smtplib,ssl\n",
    "from getpass import getpass\n",
    "\n",
    "\n",
    "from_email = \"simrangrover5@gmail.com\"\n",
    "to_email = \"simrangrover5@gmail.com\"\n",
    "password = getpass(\"\\n Enter your password : \")\n",
    "\n",
    "message = MIMEMultipart(\"alternative\")\n",
    "message[\"Subject\"] = \"Test Mail\"\n",
    "message[\"From\"] = from_email\n",
    "message[\"To\"] = to_email\n",
    "\n",
    "host = \"smtp.gmail.com\"\n",
    "port = 465\n",
    "\n",
    "content = \"\"\"\n",
    "<html>\n",
    "<body>\n",
    "    <h1 style='color:red'>Hello everyone I am mail from python script</h1>\n",
    "    <a href='https://myaccount.google.com/security'>Click on this link for you google security</a>\n",
    "</body>\n",
    "</html>\n",
    "\"\"\"\n",
    "\n",
    "m = MIMEText(content,\"html\")  #application/html\n",
    "#MIMEText(content,\"plain\")\n",
    "\n",
    "message.attach(m)  #message attach to the MIMEmultipart subject and this message will be send to receiver\n",
    "\n",
    "context = ssl.create_default_context()\n",
    "try:\n",
    "    with smtplib.SMTP_SSL(host,port,context=context) as mailserver:\n",
    "        mailserver.login(from_email,password)\n",
    "        mailserver.sendmail(from_email,to_email,message.as_string())\n",
    "except Exception as e:\n",
    "    print(\"\\n Error \",e)\n",
    "else:\n",
    "    print(\"\\n Successfully send the message\")"
   ]
  },
  {
   "cell_type": "code",
   "execution_count": 8,
   "metadata": {},
   "outputs": [],
   "source": [
    "import os\n",
    "\n",
    "#print(os.environ.keys())"
   ]
  },
  {
   "cell_type": "code",
   "execution_count": 9,
   "metadata": {},
   "outputs": [
    {
     "name": "stdout",
     "output_type": "stream",
     "text": [
      "Writing send_email.py\n"
     ]
    }
   ],
   "source": [
    "%%writefile send_email.py\n",
    "\n",
    "from email.mime.text import MIMEText\n",
    "from email.mime.multipart import MIMEMultipart\n",
    "import smtplib,ssl\n",
    "from getpass import getpass\n",
    "import os\n",
    "\n",
    "\n",
    "from_email = \"simrangrover5@gmail.com\"\n",
    "to_email = input(\"\\n Enter your email\")\n",
    "password = os.environ.get(\"EMAIL_HOST_PASSWORD\")\n",
    "\n",
    "message = MIMEMultipart(\"alternative\")\n",
    "message[\"Subject\"] = \"Test Mail\"\n",
    "message[\"From\"] = from_email\n",
    "message[\"To\"] = to_email\n",
    "\n",
    "host = \"smtp.gmail.com\"\n",
    "port = 465\n",
    "\n",
    "content = \"\"\"\n",
    "<html>\n",
    "<body>\n",
    "    <h1 style='color:red'>Hello everyone I am mail from python script</h1>\n",
    "    <a href='https://myaccount.google.com/security'>Click on this link for you google security</a>\n",
    "</body>\n",
    "</html>\n",
    "\"\"\"\n",
    "\n",
    "m = MIMEText(content,\"html\")  #application/html\n",
    "#MIMEText(content,\"plain\")\n",
    "\n",
    "message.attach(m)  #message attach to the MIMEmultipart subject and this message will be send to receiver\n",
    "\n",
    "context = ssl.create_default_context()\n",
    "try:\n",
    "    with smtplib.SMTP_SSL(host,port,context=context) as mailserver:\n",
    "        mailserver.login(from_email,password)\n",
    "        mailserver.sendmail(from_email,to_email,message.as_string())\n",
    "except Exception as e:\n",
    "    print(\"\\n Error \",e)\n",
    "else:\n",
    "    print(\"\\n Successfully send the message\")"
   ]
  },
  {
   "cell_type": "markdown",
   "metadata": {},
   "source": [
    "!python send_email.py"
   ]
  },
  {
   "cell_type": "code",
   "execution_count": 12,
   "metadata": {},
   "outputs": [
    {
     "name": "stdout",
     "output_type": "stream",
     "text": [
      "Overwriting test.py\n"
     ]
    }
   ],
   "source": [
    "%%writefile  test.py\n",
    "\n",
    "import sys\n",
    "\n",
    "print(sys.argv)"
   ]
  },
  {
   "cell_type": "code",
   "execution_count": 13,
   "metadata": {},
   "outputs": [
    {
     "name": "stdout",
     "output_type": "stream",
     "text": [
      "Writing send_email1.py\n"
     ]
    }
   ],
   "source": [
    "%%writefile send_email1.py\n",
    "\n",
    "from email.mime.text import MIMEText\n",
    "from email.mime.multipart import MIMEMultipart\n",
    "import smtplib,ssl\n",
    "from getpass import getpass\n",
    "import os,sys\n",
    "\n",
    "\n",
    "from_email = \"simrangrover5@gmail.com\"\n",
    "to_email = sys.argv[1]\n",
    "password = os.environ.get(\"EMAIL_HOST_PASSWORD\")\n",
    "\n",
    "message = MIMEMultipart(\"alternative\")\n",
    "message[\"Subject\"] = \"Test Mail\"\n",
    "message[\"From\"] = from_email\n",
    "message[\"To\"] = to_email\n",
    "\n",
    "host = \"smtp.gmail.com\"\n",
    "port = 465\n",
    "\n",
    "content = \"\"\"\n",
    "<html>\n",
    "<body>\n",
    "    <h1 style='color:red'>Hello everyone I am mail from python script</h1>\n",
    "    <a href='https://myaccount.google.com/security'>Click on this link for you google security</a>\n",
    "    <label style='color:coral;font-size:30px'>Have a good day with this flower!!!! </label>\n",
    "    <img src='https://images.unsplash.com/photo-1464982326199-86f32f81b211?ixlib=rb-1.2.1&w=1000&q=80'>\n",
    "</body>\n",
    "</html>\n",
    "\"\"\"\n",
    "\n",
    "m = MIMEText(content,\"html\")  #application/html\n",
    "#MIMEText(content,\"plain\")\n",
    "\n",
    "message.attach(m)  #message attach to the MIMEmultipart subject and this message will be send to receiver\n",
    "\n",
    "context = ssl.create_default_context()\n",
    "try:\n",
    "    with smtplib.SMTP_SSL(host,port,context=context) as mailserver:\n",
    "        mailserver.login(from_email,password)\n",
    "        mailserver.sendmail(from_email,to_email,message.as_string())\n",
    "except Exception as e:\n",
    "    print(\"\\n Error \",e)\n",
    "else:\n",
    "    print(\"\\n Successfully send the message\")"
   ]
  },
  {
   "cell_type": "code",
   "execution_count": 14,
   "metadata": {},
   "outputs": [],
   "source": [
    "### try to send mail to multiple users\n",
    "### try to send pdf from your computer to another user (attachment)"
   ]
  },
  {
   "cell_type": "code",
   "execution_count": null,
   "metadata": {},
   "outputs": [],
   "source": []
  }
 ],
 "metadata": {
  "kernelspec": {
   "display_name": "Python 3",
   "language": "python",
   "name": "python3"
  },
  "language_info": {
   "codemirror_mode": {
    "name": "ipython",
    "version": 3
   },
   "file_extension": ".py",
   "mimetype": "text/x-python",
   "name": "python",
   "nbconvert_exporter": "python",
   "pygments_lexer": "ipython3",
   "version": "3.7.4"
  }
 },
 "nbformat": 4,
 "nbformat_minor": 2
}
