{
 "cells": [
  {
   "cell_type": "code",
   "execution_count": 1,
   "metadata": {},
   "outputs": [],
   "source": [
    "import requests"
   ]
  },
  {
   "cell_type": "code",
   "execution_count": 7,
   "metadata": {},
   "outputs": [
    {
     "data": {
      "text/plain": [
       "<Response [503]>"
      ]
     },
     "execution_count": 7,
     "metadata": {},
     "output_type": "execute_result"
    }
   ],
   "source": [
    "url = \"https://www.amazon.in/s?q=laptops&ref=nb_sb_noss_2\"\n",
    "requests.get(url)"
   ]
  },
  {
   "cell_type": "code",
   "execution_count": 8,
   "metadata": {},
   "outputs": [
    {
     "data": {
      "text/plain": [
       "<Response [200]>"
      ]
     },
     "execution_count": 8,
     "metadata": {},
     "output_type": "execute_result"
    }
   ],
   "source": [
    "url = \"https://www.amazon.in/mobile-phones/b/?ie=UTF8&node=1389401031&ref_=nav_cs_mobiles\"\n",
    "requests.get(url)"
   ]
  },
  {
   "cell_type": "code",
   "execution_count": 9,
   "metadata": {},
   "outputs": [],
   "source": [
    "import re"
   ]
  },
  {
   "cell_type": "markdown",
   "metadata": {},
   "source": [
    "        . --> single character\n",
    "        * --> zero or more\n",
    "        + --> one or more\n",
    "        ? --> zero one\n",
    "        ^ --> starting\n",
    "        $ --> end"
   ]
  },
  {
   "cell_type": "code",
   "execution_count": 10,
   "metadata": {},
   "outputs": [],
   "source": [
    "s = \"\"\"This is my name\n",
    "Simran is in starting\n",
    "simran is in starting\n",
    "this is simran in middle\n",
    "and this is Simran in last\"\"\""
   ]
  },
  {
   "cell_type": "code",
   "execution_count": 11,
   "metadata": {},
   "outputs": [],
   "source": [
    "pat = re.compile(r\"^simran\")"
   ]
  },
  {
   "cell_type": "code",
   "execution_count": 12,
   "metadata": {},
   "outputs": [
    {
     "data": {
      "text/plain": [
       "re.compile(r'^simran', re.UNICODE)"
      ]
     },
     "execution_count": 12,
     "metadata": {},
     "output_type": "execute_result"
    }
   ],
   "source": [
    "pat"
   ]
  },
  {
   "cell_type": "code",
   "execution_count": 13,
   "metadata": {},
   "outputs": [
    {
     "data": {
      "text/plain": [
       "[]"
      ]
     },
     "execution_count": 13,
     "metadata": {},
     "output_type": "execute_result"
    }
   ],
   "source": [
    "re.findall(pat,s)"
   ]
  },
  {
   "cell_type": "code",
   "execution_count": 21,
   "metadata": {},
   "outputs": [],
   "source": [
    "s = \"\"\"simran This is my name\n",
    "Simran is in starting\n",
    "simran is in starting\n",
    "this is simran in middle\n",
    "and this is in last Simran\"\"\""
   ]
  },
  {
   "cell_type": "code",
   "execution_count": 22,
   "metadata": {},
   "outputs": [
    {
     "data": {
      "text/plain": [
       "['simran']"
      ]
     },
     "execution_count": 22,
     "metadata": {},
     "output_type": "execute_result"
    }
   ],
   "source": [
    "re.findall(pat,s)"
   ]
  },
  {
   "cell_type": "code",
   "execution_count": 23,
   "metadata": {},
   "outputs": [
    {
     "data": {
      "text/plain": [
       "['simran', 'simran']"
      ]
     },
     "execution_count": 23,
     "metadata": {},
     "output_type": "execute_result"
    }
   ],
   "source": [
    "re.findall(r\"^simran\",s,flags=re.MULTILINE)"
   ]
  },
  {
   "cell_type": "code",
   "execution_count": 24,
   "metadata": {},
   "outputs": [
    {
     "data": {
      "text/plain": [
       "['simran', 'Simran', 'simran']"
      ]
     },
     "execution_count": 24,
     "metadata": {},
     "output_type": "execute_result"
    }
   ],
   "source": [
    "re.findall(r\"^simran\",s,flags=re.MULTILINE|re.IGNORECASE)"
   ]
  },
  {
   "cell_type": "code",
   "execution_count": 25,
   "metadata": {},
   "outputs": [
    {
     "data": {
      "text/plain": [
       "['simran', 'Simran', 'simran', 'simran', 'Simran']"
      ]
     },
     "execution_count": 25,
     "metadata": {},
     "output_type": "execute_result"
    }
   ],
   "source": [
    "re.findall(r\"simran\",s,flags=re.MULTILINE|re.IGNORECASE)"
   ]
  },
  {
   "cell_type": "code",
   "execution_count": 26,
   "metadata": {},
   "outputs": [
    {
     "data": {
      "text/plain": [
       "['Simran']"
      ]
     },
     "execution_count": 26,
     "metadata": {},
     "output_type": "execute_result"
    }
   ],
   "source": [
    "re.findall(r\"simran$\",s,flags=re.MULTILINE|re.IGNORECASE)"
   ]
  },
  {
   "cell_type": "code",
   "execution_count": 27,
   "metadata": {},
   "outputs": [
    {
     "data": {
      "text/plain": [
       "['simran ', 'Simran ', 'simran ']"
      ]
     },
     "execution_count": 27,
     "metadata": {},
     "output_type": "execute_result"
    }
   ],
   "source": [
    "re.findall(r\"^simran.?\",s,flags=re.MULTILINE|re.IGNORECASE)"
   ]
  },
  {
   "cell_type": "code",
   "execution_count": 28,
   "metadata": {},
   "outputs": [
    {
     "data": {
      "text/plain": [
       "['simran This is my name', 'Simran is in starting', 'simran is in starting']"
      ]
     },
     "execution_count": 28,
     "metadata": {},
     "output_type": "execute_result"
    }
   ],
   "source": [
    "re.findall(r\"^simran.*\",s,flags=re.MULTILINE|re.IGNORECASE)"
   ]
  },
  {
   "cell_type": "markdown",
   "metadata": {},
   "source": [
    "    []\n",
    "    {}\n",
    "    ()"
   ]
  },
  {
   "cell_type": "code",
   "execution_count": 29,
   "metadata": {},
   "outputs": [
    {
     "data": {
      "text/plain": [
       "'simran This is my name\\nSimran is in starting\\nsimran is in starting\\nthis is simran in middle\\nand this is in last Simran'"
      ]
     },
     "execution_count": 29,
     "metadata": {},
     "output_type": "execute_result"
    }
   ],
   "source": [
    "s"
   ]
  },
  {
   "cell_type": "code",
   "execution_count": 31,
   "metadata": {},
   "outputs": [
    {
     "name": "stdout",
     "output_type": "stream",
     "text": [
      "simran This is my name\n",
      "Simran is in starting\n",
      "simran is in starting\n",
      "this is simran in middle\n",
      "and this is in last Simran\n"
     ]
    }
   ],
   "source": [
    "print(s)"
   ]
  },
  {
   "cell_type": "code",
   "execution_count": 32,
   "metadata": {},
   "outputs": [
    {
     "data": {
      "text/plain": [
       "['sim', 'sta', 'sim', 'sta', 'sim', 'st ']"
      ]
     },
     "execution_count": 32,
     "metadata": {},
     "output_type": "execute_result"
    }
   ],
   "source": [
    "re.findall(r\"s[tia].?\",s)\n",
    "#[tia] --> after s there can be t or i or a"
   ]
  },
  {
   "cell_type": "code",
   "execution_count": 35,
   "metadata": {},
   "outputs": [],
   "source": [
    "s = \"\"\"simran This is my name\n",
    "Simran is in starting\n",
    "simran is in starting\n",
    "thistam is simran in middle\n",
    "and this is in last Simran sa\"\"\""
   ]
  },
  {
   "cell_type": "code",
   "execution_count": 36,
   "metadata": {},
   "outputs": [
    {
     "data": {
      "text/plain": [
       "['sim', 'sta', 'sim', 'sta', 'sta', 'sim', 'st ', 'sa']"
      ]
     },
     "execution_count": 36,
     "metadata": {},
     "output_type": "execute_result"
    }
   ],
   "source": [
    "re.findall(r\"s[tia].?\",s)\n",
    "#[tia] --> after s there can be t or i or a"
   ]
  },
  {
   "cell_type": "code",
   "execution_count": 37,
   "metadata": {},
   "outputs": [],
   "source": [
    "s = \"\"\"simran This is my name\n",
    "Simran is in starting\n",
    "simran is in starting\n",
    "thistam is simran in middle\n",
    "and this is in last Simran\n",
    "swing is relaxing\"\"\""
   ]
  },
  {
   "cell_type": "code",
   "execution_count": 38,
   "metadata": {},
   "outputs": [
    {
     "data": {
      "text/plain": [
       "['sim', 'sta', 'sim', 'sta', 'sta', 'sim', 'st ']"
      ]
     },
     "execution_count": 38,
     "metadata": {},
     "output_type": "execute_result"
    }
   ],
   "source": [
    "re.findall(r\"s[tia].?\",s)\n",
    "#[tia] --> after s there can be t or i or a"
   ]
  },
  {
   "cell_type": "markdown",
   "metadata": {},
   "source": [
    "    \\w --> character a-z A-Z 0-9\n",
    "    \\W --> not \\w\n",
    "    \\s --> special character\n",
    "    \\S --> non \\s\n",
    "    \\b --> boundary\n",
    "    \\d --> decimal 0-9\n",
    "    \\D --> non decimal"
   ]
  },
  {
   "cell_type": "code",
   "execution_count": 40,
   "metadata": {},
   "outputs": [],
   "source": [
    "s = \"\"\"This is my class of regular expression\n",
    "and regular expression is not easy\n",
    "and is not regular\n",
    "how are you after learning this regular expression\n",
    "reguuulaaaarrrrrr aaaarrrreeeee\"\"\""
   ]
  },
  {
   "cell_type": "code",
   "execution_count": 41,
   "metadata": {},
   "outputs": [
    {
     "data": {
      "text/plain": [
       "['T',\n",
       " 'h',\n",
       " 'i',\n",
       " 's',\n",
       " 'i',\n",
       " 's',\n",
       " 'm',\n",
       " 'y',\n",
       " 'c',\n",
       " 'l',\n",
       " 'a',\n",
       " 's',\n",
       " 's',\n",
       " 'o',\n",
       " 'f',\n",
       " 'r',\n",
       " 'e',\n",
       " 'g',\n",
       " 'u',\n",
       " 'l',\n",
       " 'a',\n",
       " 'r',\n",
       " 'e',\n",
       " 'x',\n",
       " 'p',\n",
       " 'r',\n",
       " 'e',\n",
       " 's',\n",
       " 's',\n",
       " 'i',\n",
       " 'o',\n",
       " 'n',\n",
       " 'a',\n",
       " 'n',\n",
       " 'd',\n",
       " 'r',\n",
       " 'e',\n",
       " 'g',\n",
       " 'u',\n",
       " 'l',\n",
       " 'a',\n",
       " 'r',\n",
       " 'e',\n",
       " 'x',\n",
       " 'p',\n",
       " 'r',\n",
       " 'e',\n",
       " 's',\n",
       " 's',\n",
       " 'i',\n",
       " 'o',\n",
       " 'n',\n",
       " 'i',\n",
       " 's',\n",
       " 'n',\n",
       " 'o',\n",
       " 't',\n",
       " 'e',\n",
       " 'a',\n",
       " 's',\n",
       " 'y',\n",
       " 'a',\n",
       " 'n',\n",
       " 'd',\n",
       " 'i',\n",
       " 's',\n",
       " 'n',\n",
       " 'o',\n",
       " 't',\n",
       " 'r',\n",
       " 'e',\n",
       " 'g',\n",
       " 'u',\n",
       " 'l',\n",
       " 'a',\n",
       " 'r',\n",
       " 'h',\n",
       " 'o',\n",
       " 'w',\n",
       " 'a',\n",
       " 'r',\n",
       " 'e',\n",
       " 'y',\n",
       " 'o',\n",
       " 'u',\n",
       " 'a',\n",
       " 'f',\n",
       " 't',\n",
       " 'e',\n",
       " 'r',\n",
       " 'l',\n",
       " 'e',\n",
       " 'a',\n",
       " 'r',\n",
       " 'n',\n",
       " 'i',\n",
       " 'n',\n",
       " 'g',\n",
       " 't',\n",
       " 'h',\n",
       " 'i',\n",
       " 's',\n",
       " 'r',\n",
       " 'e',\n",
       " 'g',\n",
       " 'u',\n",
       " 'l',\n",
       " 'a',\n",
       " 'r',\n",
       " 'e',\n",
       " 'x',\n",
       " 'p',\n",
       " 'r',\n",
       " 'e',\n",
       " 's',\n",
       " 's',\n",
       " 'i',\n",
       " 'o',\n",
       " 'n',\n",
       " 'r',\n",
       " 'e',\n",
       " 'g',\n",
       " 'u',\n",
       " 'u',\n",
       " 'u',\n",
       " 'l',\n",
       " 'a',\n",
       " 'a',\n",
       " 'a',\n",
       " 'a',\n",
       " 'r',\n",
       " 'r',\n",
       " 'r',\n",
       " 'r',\n",
       " 'r',\n",
       " 'r',\n",
       " 'a',\n",
       " 'a',\n",
       " 'a',\n",
       " 'a',\n",
       " 'r',\n",
       " 'r',\n",
       " 'r',\n",
       " 'r',\n",
       " 'e',\n",
       " 'e',\n",
       " 'e',\n",
       " 'e',\n",
       " 'e']"
      ]
     },
     "execution_count": 41,
     "metadata": {},
     "output_type": "execute_result"
    }
   ],
   "source": [
    "re.findall(r\"\\w\",s)"
   ]
  },
  {
   "cell_type": "code",
   "execution_count": 42,
   "metadata": {},
   "outputs": [],
   "source": [
    "s = \"\"\"This is my class of regular expression\n",
    "and regular expression is not easy\n",
    "and is not regular\n",
    "how are you after learning this regular expression\n",
    "reguuulaaaarrrrrr aaaarrrreeeee\"\"\""
   ]
  },
  {
   "cell_type": "code",
   "execution_count": 43,
   "metadata": {},
   "outputs": [
    {
     "data": {
      "text/plain": [
       "[' ',\n",
       " ' ',\n",
       " ' ',\n",
       " ' ',\n",
       " ' ',\n",
       " ' ',\n",
       " '\\n',\n",
       " ' ',\n",
       " ' ',\n",
       " ' ',\n",
       " ' ',\n",
       " ' ',\n",
       " '\\n',\n",
       " ' ',\n",
       " ' ',\n",
       " ' ',\n",
       " '\\n',\n",
       " ' ',\n",
       " ' ',\n",
       " ' ',\n",
       " ' ',\n",
       " ' ',\n",
       " ' ',\n",
       " ' ',\n",
       " '\\n',\n",
       " ' ']"
      ]
     },
     "execution_count": 43,
     "metadata": {},
     "output_type": "execute_result"
    }
   ],
   "source": [
    "re.findall(r\"\\W\",s)"
   ]
  },
  {
   "cell_type": "code",
   "execution_count": 44,
   "metadata": {},
   "outputs": [
    {
     "data": {
      "text/plain": [
       "['a',\n",
       " 'ar',\n",
       " 'a',\n",
       " 'ar',\n",
       " 'a',\n",
       " 'a',\n",
       " 'ar',\n",
       " 'are',\n",
       " 'a',\n",
       " 'ar',\n",
       " 'ar',\n",
       " 'a',\n",
       " 'a',\n",
       " 'a',\n",
       " 'ar',\n",
       " 'a',\n",
       " 'a',\n",
       " 'a',\n",
       " 'ar']"
      ]
     },
     "execution_count": 44,
     "metadata": {},
     "output_type": "execute_result"
    }
   ],
   "source": [
    "re.findall(r\"a[r]?e?\",s)"
   ]
  },
  {
   "cell_type": "code",
   "execution_count": 45,
   "metadata": {},
   "outputs": [
    {
     "data": {
      "text/plain": [
       "['a',\n",
       " 'ar',\n",
       " 'a',\n",
       " 'ar',\n",
       " 'a',\n",
       " 'a',\n",
       " 'ar',\n",
       " 'are',\n",
       " 'a',\n",
       " 'ar',\n",
       " 'ar',\n",
       " 'a',\n",
       " 'a',\n",
       " 'a',\n",
       " 'arrrrrr',\n",
       " 'a',\n",
       " 'a',\n",
       " 'a',\n",
       " 'arrrreeeee']"
      ]
     },
     "execution_count": 45,
     "metadata": {},
     "output_type": "execute_result"
    }
   ],
   "source": [
    "re.findall(r\"ar{0,}e{0,}\",s)\n",
    "#a compulsory r that be 0 times or more times and same for e"
   ]
  },
  {
   "cell_type": "code",
   "execution_count": 46,
   "metadata": {},
   "outputs": [
    {
     "data": {
      "text/plain": [
       "['a',\n",
       " 'ar',\n",
       " 'a',\n",
       " 'ar',\n",
       " 'a',\n",
       " 'a',\n",
       " 'ar',\n",
       " 'are',\n",
       " 'a',\n",
       " 'ar',\n",
       " 'ar',\n",
       " 'a',\n",
       " 'a',\n",
       " 'a',\n",
       " 'arrrr',\n",
       " 'a',\n",
       " 'a',\n",
       " 'a',\n",
       " 'arrrreeee']"
      ]
     },
     "execution_count": 46,
     "metadata": {},
     "output_type": "execute_result"
    }
   ],
   "source": [
    "re.findall(r\"ar{0,4}e{0,4}\",s)\n",
    "#a compulsory r that be 0 times or more times and same for e"
   ]
  },
  {
   "cell_type": "code",
   "execution_count": 47,
   "metadata": {},
   "outputs": [
    {
     "data": {
      "text/plain": [
       "['ar', 'ar', 'ar', 'are', 'ar', 'ar', 'arrr', 'arrr']"
      ]
     },
     "execution_count": 47,
     "metadata": {},
     "output_type": "execute_result"
    }
   ],
   "source": [
    "re.findall(r\"ar{1,3}e{0,4}\",s)\n",
    "#a compulsory r that be 0 times or more times and same for e"
   ]
  },
  {
   "cell_type": "code",
   "execution_count": 48,
   "metadata": {},
   "outputs": [],
   "source": [
    "s1 = \"\"\"A regular expression (shortened as regex or regexp;[1] also referred to as rational expression)[2][3] is a sequence of characters that define a search pattern. Usually such patterns are used by string-searching algorithms for \"find\" or \"find and replace\" operations on strings, or for input validation. It is a technique developed in theoretical computer science and formal language theory.\n",
    "\n",
    "The concept arose in the 1950s when the American mathematician Stephen Cole Kleene formalized the description of a regular language. The concept came into common use with Unix text-processing utilities. Different syntaxes for writing regular expressions have existed since the 1980s, one being the POSIX standard and another, widely used, being the Perl syntax.\n",
    "\n",
    "Regular expressions are used in search engines, search and replace dialogs of word processors and text editors, in text processing utilities such as sed and AWK and in lexical analysis. Many programming languages provide regex capabilities either built-in or via libraries.\"\"\""
   ]
  },
  {
   "cell_type": "code",
   "execution_count": 49,
   "metadata": {},
   "outputs": [
    {
     "name": "stdout",
     "output_type": "stream",
     "text": [
      "A regular expression (shortened as regex or regexp;[1] also referred to as rational expression)[2][3] is a sequence of characters that define a search pattern. Usually such patterns are used by string-searching algorithms for \"find\" or \"find and replace\" operations on strings, or for input validation. It is a technique developed in theoretical computer science and formal language theory.\n",
      "\n",
      "The concept arose in the 1950s when the American mathematician Stephen Cole Kleene formalized the description of a regular language. The concept came into common use with Unix text-processing utilities. Different syntaxes for writing regular expressions have existed since the 1980s, one being the POSIX standard and another, widely used, being the Perl syntax.\n",
      "\n",
      "Regular expressions are used in search engines, search and replace dialogs of word processors and text editors, in text processing utilities such as sed and AWK and in lexical analysis. Many programming languages provide regex capabilities either built-in or via libraries.\n"
     ]
    }
   ],
   "source": [
    "print(s1)"
   ]
  },
  {
   "cell_type": "code",
   "execution_count": 50,
   "metadata": {},
   "outputs": [
    {
     "data": {
      "text/plain": [
       "['1', '2', '3', '1', '9', '5', '0', '1', '9', '8', '0']"
      ]
     },
     "execution_count": 50,
     "metadata": {},
     "output_type": "execute_result"
    }
   ],
   "source": [
    "re.findall(r\"\\d\",s1)"
   ]
  },
  {
   "cell_type": "code",
   "execution_count": 51,
   "metadata": {},
   "outputs": [
    {
     "data": {
      "text/plain": [
       "['1950', '1980']"
      ]
     },
     "execution_count": 51,
     "metadata": {},
     "output_type": "execute_result"
    }
   ],
   "source": [
    "re.findall(r\"\\d{4}\",s1)"
   ]
  },
  {
   "cell_type": "code",
   "execution_count": 53,
   "metadata": {},
   "outputs": [
    {
     "data": {
      "text/plain": [
       "['\"find\" or \"find and replace\"']"
      ]
     },
     "execution_count": 53,
     "metadata": {},
     "output_type": "execute_result"
    }
   ],
   "source": [
    "re.findall(r\"\\\".*\\\"\",s1)"
   ]
  },
  {
   "cell_type": "code",
   "execution_count": 58,
   "metadata": {},
   "outputs": [
    {
     "data": {
      "text/plain": [
       "['\"find\" or \"find and replace\"']"
      ]
     },
     "execution_count": 58,
     "metadata": {},
     "output_type": "execute_result"
    }
   ],
   "source": [
    "re.findall(r'\".*\"',s1)"
   ]
  },
  {
   "cell_type": "code",
   "execution_count": 80,
   "metadata": {},
   "outputs": [],
   "source": [
    "s2 = \"\"\"This is my date of birth 16-01-2000\n",
    "This is not my dob \n",
    "the date can be like this also 16-1-20\n",
    "the date like this is incorrect 16-01\n",
    "the date can be like this also 16/01/2020\n",
    "should \n",
    "someone got birth on 1-4-91 or 1/4/91\n",
    "\n",
    "and this date is not valid 1012020\n",
    "1,12,2020\n",
    "this is also forget\"\"\""
   ]
  },
  {
   "cell_type": "code",
   "execution_count": 81,
   "metadata": {},
   "outputs": [
    {
     "data": {
      "text/plain": [
       "['regular', 'regular', 'regular', 'Regular']"
      ]
     },
     "execution_count": 81,
     "metadata": {},
     "output_type": "execute_result"
    }
   ],
   "source": [
    "re.findall(r\"regular\",s1,flags=re.IGNORECASE)"
   ]
  },
  {
   "cell_type": "code",
   "execution_count": 82,
   "metadata": {},
   "outputs": [
    {
     "data": {
      "text/plain": [
       "['16-01-2000', '16-1-20', '16/01/2020', '1-4-91', '1/4/91']"
      ]
     },
     "execution_count": 82,
     "metadata": {},
     "output_type": "execute_result"
    }
   ],
   "source": [
    " re.findall(r\"\\d{1,2}[-/]\\d{1,2}[-/]\\d{2,4}\",s2)"
   ]
  },
  {
   "cell_type": "code",
   "execution_count": 83,
   "metadata": {},
   "outputs": [
    {
     "data": {
      "text/plain": [
       "[' ',\n",
       " ' ',\n",
       " ' ',\n",
       " ' ',\n",
       " ' ',\n",
       " ' ',\n",
       " '\\n',\n",
       " ' ',\n",
       " ' ',\n",
       " ' ',\n",
       " ' ',\n",
       " ' ',\n",
       " '\\n',\n",
       " ' ',\n",
       " ' ',\n",
       " ' ',\n",
       " ' ',\n",
       " ' ',\n",
       " ' ',\n",
       " ' ',\n",
       " '\\n',\n",
       " ' ',\n",
       " ' ',\n",
       " ' ',\n",
       " ' ',\n",
       " ' ',\n",
       " ' ',\n",
       " '\\n',\n",
       " ' ',\n",
       " ' ',\n",
       " ' ',\n",
       " ' ',\n",
       " ' ',\n",
       " ' ',\n",
       " ' ',\n",
       " '\\n',\n",
       " ' ',\n",
       " '\\n',\n",
       " ' ',\n",
       " ' ',\n",
       " ' ',\n",
       " ' ',\n",
       " ' ',\n",
       " ' ',\n",
       " '\\n',\n",
       " '\\n',\n",
       " ' ',\n",
       " ' ',\n",
       " ' ',\n",
       " ' ',\n",
       " ' ',\n",
       " ' ',\n",
       " '\\n',\n",
       " '\\n',\n",
       " ' ',\n",
       " ' ',\n",
       " ' ']"
      ]
     },
     "execution_count": 83,
     "metadata": {},
     "output_type": "execute_result"
    }
   ],
   "source": [
    "re.findall(r\"\\s\",s2)"
   ]
  },
  {
   "cell_type": "code",
   "execution_count": 84,
   "metadata": {},
   "outputs": [
    {
     "data": {
      "text/plain": [
       "['T',\n",
       " 'h',\n",
       " 'i',\n",
       " 's',\n",
       " 'i',\n",
       " 's',\n",
       " 'm',\n",
       " 'y',\n",
       " 'd',\n",
       " 'a',\n",
       " 't',\n",
       " 'e',\n",
       " 'o',\n",
       " 'f',\n",
       " 'b',\n",
       " 'i',\n",
       " 'r',\n",
       " 't',\n",
       " 'h',\n",
       " '1',\n",
       " '6',\n",
       " '0',\n",
       " '1',\n",
       " '2',\n",
       " '0',\n",
       " '0',\n",
       " '0',\n",
       " 'T',\n",
       " 'h',\n",
       " 'i',\n",
       " 's',\n",
       " 'i',\n",
       " 's',\n",
       " 'n',\n",
       " 'o',\n",
       " 't',\n",
       " 'm',\n",
       " 'y',\n",
       " 'd',\n",
       " 'o',\n",
       " 'b',\n",
       " 't',\n",
       " 'h',\n",
       " 'e',\n",
       " 'd',\n",
       " 'a',\n",
       " 't',\n",
       " 'e',\n",
       " 'c',\n",
       " 'a',\n",
       " 'n',\n",
       " 'b',\n",
       " 'e',\n",
       " 'l',\n",
       " 'i',\n",
       " 'k',\n",
       " 'e',\n",
       " 't',\n",
       " 'h',\n",
       " 'i',\n",
       " 's',\n",
       " 'a',\n",
       " 'l',\n",
       " 's',\n",
       " 'o',\n",
       " '1',\n",
       " '6',\n",
       " '1',\n",
       " '2',\n",
       " '0',\n",
       " 't',\n",
       " 'h',\n",
       " 'e',\n",
       " 'd',\n",
       " 'a',\n",
       " 't',\n",
       " 'e',\n",
       " 'l',\n",
       " 'i',\n",
       " 'k',\n",
       " 'e',\n",
       " 't',\n",
       " 'h',\n",
       " 'i',\n",
       " 's',\n",
       " 'i',\n",
       " 's',\n",
       " 'i',\n",
       " 'n',\n",
       " 'c',\n",
       " 'o',\n",
       " 'r',\n",
       " 'r',\n",
       " 'e',\n",
       " 'c',\n",
       " 't',\n",
       " '1',\n",
       " '6',\n",
       " '0',\n",
       " '1',\n",
       " 't',\n",
       " 'h',\n",
       " 'e',\n",
       " 'd',\n",
       " 'a',\n",
       " 't',\n",
       " 'e',\n",
       " 'c',\n",
       " 'a',\n",
       " 'n',\n",
       " 'b',\n",
       " 'e',\n",
       " 'l',\n",
       " 'i',\n",
       " 'k',\n",
       " 'e',\n",
       " 't',\n",
       " 'h',\n",
       " 'i',\n",
       " 's',\n",
       " 'a',\n",
       " 'l',\n",
       " 's',\n",
       " 'o',\n",
       " '1',\n",
       " '6',\n",
       " '0',\n",
       " '1',\n",
       " '2',\n",
       " '0',\n",
       " '2',\n",
       " '0',\n",
       " 's',\n",
       " 'h',\n",
       " 'o',\n",
       " 'u',\n",
       " 'l',\n",
       " 'd',\n",
       " 's',\n",
       " 'o',\n",
       " 'm',\n",
       " 'e',\n",
       " 'o',\n",
       " 'n',\n",
       " 'e',\n",
       " 'g',\n",
       " 'o',\n",
       " 't',\n",
       " 'b',\n",
       " 'i',\n",
       " 'r',\n",
       " 't',\n",
       " 'h',\n",
       " 'o',\n",
       " 'n',\n",
       " '1',\n",
       " '4',\n",
       " '9',\n",
       " '1',\n",
       " 'o',\n",
       " 'r',\n",
       " '1',\n",
       " '4',\n",
       " '9',\n",
       " '1',\n",
       " 'a',\n",
       " 'n',\n",
       " 'd',\n",
       " 't',\n",
       " 'h',\n",
       " 'i',\n",
       " 's',\n",
       " 'd',\n",
       " 'a',\n",
       " 't',\n",
       " 'e',\n",
       " 'i',\n",
       " 's',\n",
       " 'n',\n",
       " 'o',\n",
       " 't',\n",
       " 'v',\n",
       " 'a',\n",
       " 'l',\n",
       " 'i',\n",
       " 'd',\n",
       " '1',\n",
       " '0',\n",
       " '1',\n",
       " '2',\n",
       " '0',\n",
       " '2',\n",
       " '0',\n",
       " '1',\n",
       " '1',\n",
       " '2',\n",
       " '2',\n",
       " '0',\n",
       " '2',\n",
       " '0',\n",
       " 't',\n",
       " 'h',\n",
       " 'i',\n",
       " 's',\n",
       " 'i',\n",
       " 's',\n",
       " 'a',\n",
       " 'l',\n",
       " 's',\n",
       " 'o',\n",
       " 'f',\n",
       " 'o',\n",
       " 'r',\n",
       " 'g',\n",
       " 'e',\n",
       " 't']"
      ]
     },
     "execution_count": 84,
     "metadata": {},
     "output_type": "execute_result"
    }
   ],
   "source": [
    "re.findall(r\"\\w\",s2)"
   ]
  },
  {
   "cell_type": "code",
   "execution_count": 85,
   "metadata": {},
   "outputs": [
    {
     "data": {
      "text/plain": [
       "['Thi',\n",
       " 'dat',\n",
       " 'bir',\n",
       " '200',\n",
       " 'Thi',\n",
       " 'not',\n",
       " 'dob',\n",
       " 'the',\n",
       " 'dat',\n",
       " 'can',\n",
       " 'lik',\n",
       " 'thi',\n",
       " 'als',\n",
       " 'the',\n",
       " 'dat',\n",
       " 'lik',\n",
       " 'thi',\n",
       " 'inc',\n",
       " 'orr',\n",
       " 'ect',\n",
       " 'the',\n",
       " 'dat',\n",
       " 'can',\n",
       " 'lik',\n",
       " 'thi',\n",
       " 'als',\n",
       " '202',\n",
       " 'sho',\n",
       " 'uld',\n",
       " 'som',\n",
       " 'eon',\n",
       " 'got',\n",
       " 'bir',\n",
       " 'and',\n",
       " 'thi',\n",
       " 'dat',\n",
       " 'not',\n",
       " 'val',\n",
       " '101',\n",
       " '202',\n",
       " '202',\n",
       " 'thi',\n",
       " 'als',\n",
       " 'for',\n",
       " 'get']"
      ]
     },
     "execution_count": 85,
     "metadata": {},
     "output_type": "execute_result"
    }
   ],
   "source": [
    "re.findall(r\"\\w\\w\\w\",s2)\n",
    "#having 3 characters no special characters -,%,_,\\n,space\n",
    "#this returns us the characters in middle of the words also"
   ]
  },
  {
   "cell_type": "code",
   "execution_count": 86,
   "metadata": {},
   "outputs": [
    {
     "data": {
      "text/plain": [
       "['not', 'dob', 'the', 'can', 'the', 'the', 'can', 'got', 'and', 'not']"
      ]
     },
     "execution_count": 86,
     "metadata": {},
     "output_type": "execute_result"
    }
   ],
   "source": [
    "re.findall(r\"\\b\\w\\w\\w\\b\",s2)\n",
    "#having 3 characters no special characters -,%,_,\\n,space\n",
    "#i want the words only having 3 character"
   ]
  },
  {
   "cell_type": "code",
   "execution_count": 87,
   "metadata": {},
   "outputs": [
    {
     "data": {
      "text/plain": [
       "['This',\n",
       " 'is',\n",
       " 'my',\n",
       " 'date',\n",
       " 'of',\n",
       " '16',\n",
       " '01',\n",
       " '2000',\n",
       " 'This',\n",
       " 'is',\n",
       " 'not',\n",
       " 'my',\n",
       " 'dob',\n",
       " 'the',\n",
       " 'date',\n",
       " 'can',\n",
       " 'be',\n",
       " 'like',\n",
       " 'this',\n",
       " 'also',\n",
       " '16',\n",
       " '20',\n",
       " 'the',\n",
       " 'date',\n",
       " 'like',\n",
       " 'this',\n",
       " 'is',\n",
       " '16',\n",
       " '01',\n",
       " 'the',\n",
       " 'date',\n",
       " 'can',\n",
       " 'be',\n",
       " 'like',\n",
       " 'this',\n",
       " 'also',\n",
       " '16',\n",
       " '01',\n",
       " '2020',\n",
       " 'got',\n",
       " 'on',\n",
       " '91',\n",
       " 'or',\n",
       " '91',\n",
       " 'and',\n",
       " 'this',\n",
       " 'date',\n",
       " 'is',\n",
       " 'not',\n",
       " '12',\n",
       " '2020',\n",
       " 'this',\n",
       " 'is',\n",
       " 'also']"
      ]
     },
     "execution_count": 87,
     "metadata": {},
     "output_type": "execute_result"
    }
   ],
   "source": [
    "re.findall(r\"\\b\\w{2,4}\\b\",s2)"
   ]
  },
  {
   "cell_type": "code",
   "execution_count": 88,
   "metadata": {},
   "outputs": [
    {
     "data": {
      "text/plain": [
       "['16', '01', '16', '20', '16', '01', '16', '01', '91', '91', '12']"
      ]
     },
     "execution_count": 88,
     "metadata": {},
     "output_type": "execute_result"
    }
   ],
   "source": [
    "re.findall(r\"\\b\\d{2}\\b\",s2)"
   ]
  },
  {
   "cell_type": "code",
   "execution_count": 91,
   "metadata": {},
   "outputs": [],
   "source": [
    "numbers = \"\"\"\n",
    "This is the number 123 of 9876543210 and the number 987654 is not correct\n",
    "get all the correct numbers\n",
    "9876543219 and having number 9876598765 and 912345678 and h9876543210k\"\"\""
   ]
  },
  {
   "cell_type": "code",
   "execution_count": 92,
   "metadata": {},
   "outputs": [
    {
     "data": {
      "text/plain": [
       "['9876543210', '9876543219', '9876598765', '9876543210']"
      ]
     },
     "execution_count": 92,
     "metadata": {},
     "output_type": "execute_result"
    }
   ],
   "source": [
    "re.findall(r\"\\d{10}\",numbers)"
   ]
  },
  {
   "cell_type": "code",
   "execution_count": 93,
   "metadata": {},
   "outputs": [
    {
     "data": {
      "text/plain": [
       "['9876543210', '9876543219', '9876598765']"
      ]
     },
     "execution_count": 93,
     "metadata": {},
     "output_type": "execute_result"
    }
   ],
   "source": [
    "re.findall(r\"\\b\\d{10}\\b\",numbers)"
   ]
  },
  {
   "cell_type": "code",
   "execution_count": 140,
   "metadata": {},
   "outputs": [],
   "source": [
    "numbers = \"\"\"\n",
    "This is the number 123 of +919876543210 and the number 987654 is not correct\n",
    "get all the correct numbers\n",
    "9876543219 and having number 9876598765 and +91992345678 and h9876543210k\"\"\""
   ]
  },
  {
   "cell_type": "code",
   "execution_count": 108,
   "metadata": {},
   "outputs": [
    {
     "data": {
      "text/plain": [
       "['+919876543210', '9876543219', '9876598765', '+91912345678']"
      ]
     },
     "execution_count": 108,
     "metadata": {},
     "output_type": "execute_result"
    }
   ],
   "source": [
    "re.findall(r\"[\\+]?\\d{10,12}\\b\",numbers)"
   ]
  },
  {
   "cell_type": "code",
   "execution_count": 163,
   "metadata": {},
   "outputs": [
    {
     "data": {
      "text/plain": [
       "[('+', '919876543210'),\n",
       " ('', '9876543219'),\n",
       " ('', '9876598765'),\n",
       " ('+', '91992345678')]"
      ]
     },
     "execution_count": 163,
     "metadata": {},
     "output_type": "execute_result"
    }
   ],
   "source": [
    "re.findall(r\"(\\+)?(\\d{10,12})\\b\",numbers)"
   ]
  },
  {
   "cell_type": "code",
   "execution_count": 166,
   "metadata": {},
   "outputs": [
    {
     "name": "stdout",
     "output_type": "stream",
     "text": [
      "Starting index :  28\n",
      "Engling index :  40\n",
      "919876543210\n",
      "Starting index :  106\n",
      "Engling index :  116\n",
      "9876543219\n",
      "Starting index :  135\n",
      "Engling index :  145\n",
      "9876598765\n"
     ]
    }
   ],
   "source": [
    "for i in re.finditer(r\"\\b(\\+)?(\\d{10}|\\d{12})\\b\",numbers):\n",
    "    print(\"Starting index : \",i.span()[0])\n",
    "    print(\"Engling index : \",i.span()[1])\n",
    "    print(i.group())"
   ]
  },
  {
   "cell_type": "code",
   "execution_count": 120,
   "metadata": {},
   "outputs": [
    {
     "data": {
      "text/plain": [
       "'This is my date of birth 16-01-2000\\nThis is not my dob \\nthe date can be like this also 16-1-20\\nthe date like this is incorrect 16-01\\nthe date can be like this also 16/01/2020\\nshould \\nsomeone got birth on 1-4-91 or 1/4/91\\n\\nand this date is not valid 1012020\\n1,12,2020\\nthis is also forget'"
      ]
     },
     "execution_count": 120,
     "metadata": {},
     "output_type": "execute_result"
    }
   ],
   "source": [
    "s2"
   ]
  },
  {
   "cell_type": "code",
   "execution_count": 168,
   "metadata": {},
   "outputs": [
    {
     "data": {
      "text/plain": [
       "['Th', 'Th']"
      ]
     },
     "execution_count": 168,
     "metadata": {},
     "output_type": "execute_result"
    }
   ],
   "source": [
    "re.findall(r\"T[h|i]\",s2)\n",
    "#| --> or"
   ]
  },
  {
   "cell_type": "code",
   "execution_count": 169,
   "metadata": {},
   "outputs": [],
   "source": [
    "urls = \"\"\"\n",
    "https://www.google.com\n",
    "http://www.example.com\n",
    "www.hackerrank.com\n",
    "domain --> domain.com,gmail.com\n",
    "example.mail.com\n",
    "xyxin\n",
    "www.ing\n",
    "https://.com\n",
    "\"\"\""
   ]
  },
  {
   "cell_type": "code",
   "execution_count": 174,
   "metadata": {},
   "outputs": [
    {
     "data": {
      "text/plain": [
       "[('https://', 'www.', 'google', 'com'),\n",
       " ('http://', 'www.', 'example', 'com'),\n",
       " ('', 'www.', 'hackerrank', 'com'),\n",
       " ('', '', 'domain', 'com'),\n",
       " ('', '', 'gmail', 'com'),\n",
       " ('', '', 'example.mail', 'com'),\n",
       " ('', '', 'www', 'in')]"
      ]
     },
     "execution_count": 174,
     "metadata": {},
     "output_type": "execute_result"
    }
   ],
   "source": [
    "re.findall(r\"(https?://)?(www.)?([a-zA-Z_\\.]+)+\\.(com|org|in|uk)\",urls)"
   ]
  },
  {
   "cell_type": "code",
   "execution_count": 175,
   "metadata": {},
   "outputs": [
    {
     "data": {
      "text/plain": [
       "[('https://', 'www.', 'google', 'com'),\n",
       " ('http://', 'www.', 'example', 'com'),\n",
       " ('', 'www.', 'hackerrank', 'com'),\n",
       " ('', '', 'domain', 'com'),\n",
       " ('', '', 'gmail', 'com'),\n",
       " ('', '', 'example.mail', 'com'),\n",
       " ('', '', 'www', 'ing')]"
      ]
     },
     "execution_count": 175,
     "metadata": {},
     "output_type": "execute_result"
    }
   ],
   "source": [
    "re.findall(r\"(https?://)?(www.)?([a-zA-Z_\\.]+)+\\.([a-z]{2,6})\",urls)"
   ]
  },
  {
   "cell_type": "code",
   "execution_count": 177,
   "metadata": {},
   "outputs": [
    {
     "name": "stdout",
     "output_type": "stream",
     "text": [
      "https://www.google.com\n",
      "http://www.example.com\n",
      "www.hackerrank.com\n",
      "domain.com\n",
      "gmail.com\n",
      "example.mail.com\n",
      "www.ing\n"
     ]
    }
   ],
   "source": [
    "for i in re.finditer(r\"(https?://)?(www.)?([a-zA-Z_\\.]+)+\\.([a-z]{2,6})\",urls):\n",
    "    print(i.group())"
   ]
  },
  {
   "cell_type": "code",
   "execution_count": 179,
   "metadata": {},
   "outputs": [],
   "source": [
    "r = re.search(r\"(https?://)?(www.)?([a-zA-Z_\\.]+)+\\.([a-z]{2,6})\",urls)\n",
    "#it return also first result"
   ]
  },
  {
   "cell_type": "code",
   "execution_count": 181,
   "metadata": {},
   "outputs": [
    {
     "data": {
      "text/plain": [
       "(1, 23)"
      ]
     },
     "execution_count": 181,
     "metadata": {},
     "output_type": "execute_result"
    }
   ],
   "source": [
    "r.span()"
   ]
  },
  {
   "cell_type": "code",
   "execution_count": 182,
   "metadata": {},
   "outputs": [
    {
     "data": {
      "text/plain": [
       "'https://www.google.com'"
      ]
     },
     "execution_count": 182,
     "metadata": {},
     "output_type": "execute_result"
    }
   ],
   "source": [
    "r.group()"
   ]
  },
  {
   "cell_type": "code",
   "execution_count": 189,
   "metadata": {},
   "outputs": [],
   "source": [
    "email = \"\"\"\n",
    "simran@gmail.com\n",
    "simran123@gmail.com\n",
    "abc@gmail.com\n",
    "abcmail.com\n",
    "abc@mail\n",
    "some of them are correct mail and some are not correct your task is \n",
    "to find correct mail among them\n",
    "@mail.com\n",
    "\"\"\""
   ]
  },
  {
   "cell_type": "code",
   "execution_count": 190,
   "metadata": {},
   "outputs": [
    {
     "data": {
      "text/plain": [
       "[('simran', 'gmail', 'com'),\n",
       " ('simran123', 'gmail', 'com'),\n",
       " ('abc', 'gmail', 'com')]"
      ]
     },
     "execution_count": 190,
     "metadata": {},
     "output_type": "execute_result"
    }
   ],
   "source": [
    "re.findall(r\"(\\w+)+@([a-zA-Z]{4,10})\\.(com)\",email)"
   ]
  },
  {
   "cell_type": "code",
   "execution_count": 192,
   "metadata": {},
   "outputs": [
    {
     "name": "stdout",
     "output_type": "stream",
     "text": [
      "simran@gmail.com\n",
      "simran123@gmail.com\n",
      "abc@gmail.com\n",
      "@mail.com\n"
     ]
    }
   ],
   "source": [
    "for i in re.finditer(r\"(\\w*)+@([a-zA-Z]{4,10})\\.(com)\",email):\n",
    "    print(i.group())"
   ]
  },
  {
   "cell_type": "code",
   "execution_count": 193,
   "metadata": {},
   "outputs": [
    {
     "name": "stdout",
     "output_type": "stream",
     "text": [
      "simran@gmail.com\n",
      "simran123@gmail.com\n",
      "abc@gmail.com\n"
     ]
    }
   ],
   "source": [
    "for i in re.finditer(r\"(\\w+)+@([a-zA-Z]{4,10})\\.(com|in|)\",email):\n",
    "    print(i.group())"
   ]
  },
  {
   "cell_type": "code",
   "execution_count": null,
   "metadata": {},
   "outputs": [],
   "source": [
    "#git\n",
    "#GUI"
   ]
  }
 ],
 "metadata": {
  "kernelspec": {
   "display_name": "Python 3",
   "language": "python",
   "name": "python3"
  },
  "language_info": {
   "codemirror_mode": {
    "name": "ipython",
    "version": 3
   },
   "file_extension": ".py",
   "mimetype": "text/x-python",
   "name": "python",
   "nbconvert_exporter": "python",
   "pygments_lexer": "ipython3",
   "version": "3.7.4"
  }
 },
 "nbformat": 4,
 "nbformat_minor": 2
}
