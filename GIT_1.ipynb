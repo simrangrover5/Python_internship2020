{
 "cells": [
  {
   "cell_type": "markdown",
   "metadata": {},
   "source": [
    "            Developer --> Android developer\n",
    "                          Web developer\n",
    "                          Deploy --> project"
   ]
  },
  {
   "cell_type": "markdown",
   "metadata": {},
   "source": [
    "        Git ---> Github/Gitlab\n",
    "        Github --> Platform which uses Git and  help the developers/or any other people to exchange there code or to work on same thing/project and you can store your project online!!!\n",
    "        \n",
    "        GIT --> Version Control System\n",
    "        \n",
    "            Project  --> index.html, models.py,views.py,urls.py\n",
    "            \n",
    "            Views.py --> 20 changes\n",
    "            index.html --> 10 changes\n",
    "            urls.py --> 10 changes\n",
    "           \n",
    "           \n",
    "               modules ---> user,payment gateway,blog add,api create"
   ]
  },
  {
   "cell_type": "code",
   "execution_count": 3,
   "metadata": {},
   "outputs": [
    {
     "name": "stdout",
     "output_type": "stream",
     "text": [
      "hello world\n"
     ]
    }
   ],
   "source": [
    "print(\"hello world\")"
   ]
  },
  {
   "cell_type": "code",
   "execution_count": 4,
   "metadata": {},
   "outputs": [
    {
     "name": "stdout",
     "output_type": "stream",
     "text": [
      "hello world\n",
      "\n",
      " Enter your code : k\n"
     ]
    },
    {
     "data": {
      "text/plain": [
       "'k'"
      ]
     },
     "execution_count": 4,
     "metadata": {},
     "output_type": "execute_result"
    }
   ],
   "source": [
    "print(\"hello world\")\n",
    "input(\"\\n Enter your code : \")"
   ]
  },
  {
   "cell_type": "markdown",
   "metadata": {},
   "source": [
    "        Git --> Version Control System\n",
    "        \n",
    "            Version --> Updated files/application/software with new or advance features and return the same app/software which is considered as the new version \n",
    "            \n",
    "            \n",
    "            app.py --> 10 lines ---> v1\n",
    "         change in app.py --> 20 lines ---> v2\n",
    "         change in app.py --> 40 lines --> v3\n",
    "         \n",
    "         \n",
    "         Now i want to track all those versions or i want to control all those versions for that we need a automatic system to track our systems\n",
    "         \n",
    "         \n",
    "         There are two types of VCS\n",
    "         \n",
    "             1. Centralized\n",
    "                 Drawback of centralized server???\n",
    "                     1. Everiything is Online so server down will be a problem\n",
    "                     2. Server Crash\n",
    "                     3. Speed traffic\n",
    "             2. Distributed (GIT)\n",
    "             \n",
    "             \n",
    "    Git --> download --> installed --> Environment Variable\n",
    "    "
   ]
  },
  {
   "cell_type": "markdown",
   "metadata": {},
   "source": [
    "    1. git init(initialize)\n",
    "    \n",
    "        it will initialize a repo --> .git\n",
    "            .git --> hidden folder which is used to store all your details or versions of your project\n",
    "                Or track your versions of file or project\n",
    "                \n",
    "                commit --> save changes permanently\n",
    "                \n",
    "            app.py --> working --> git add app.py(filename)\n",
    "            app.py changes --> staging area\n",
    "            commit --> updates (track) --> .git \n",
    "            You can give message when you perfom commit to that you can know what you have done with the file"
   ]
  },
  {
   "cell_type": "markdown",
   "metadata": {},
   "source": [
    "    1. git init\n",
    "    2. make file\n",
    "    3. git add .(will add all the files in your folder/repository in working directory)"
   ]
  },
  {
   "cell_type": "code",
   "execution_count": 1,
   "metadata": {},
   "outputs": [],
   "source": [
    "import os"
   ]
  },
  {
   "cell_type": "code",
   "execution_count": 2,
   "metadata": {},
   "outputs": [],
   "source": [
    "os.chdir(\"C://batches/gitrepo\")"
   ]
  },
  {
   "cell_type": "code",
   "execution_count": 7,
   "metadata": {},
   "outputs": [
    {
     "data": {
      "text/plain": [
       "'C:\\\\batches\\\\gitrepo'"
      ]
     },
     "execution_count": 7,
     "metadata": {},
     "output_type": "execute_result"
    }
   ],
   "source": [
    "pwd"
   ]
  },
  {
   "cell_type": "code",
   "execution_count": 8,
   "metadata": {},
   "outputs": [
    {
     "name": "stdout",
     "output_type": "stream",
     "text": [
      " Volume in drive C is Windows\n",
      " Volume Serial Number is E08D-DAD9\n",
      "\n",
      " Directory of C:\\batches\\gitrepo\n",
      "\n",
      "11-07-2020  11:28    <DIR>          .\n",
      "11-07-2020  11:28    <DIR>          ..\n",
      "11-07-2020  11:28             2,266 .one.py.un~\n",
      "11-07-2020  11:28               114 one.py\n",
      "11-07-2020  11:24                90 one.py~\n",
      "               3 File(s)          2,470 bytes\n",
      "               2 Dir(s)  24,734,240,768 bytes free\n"
     ]
    }
   ],
   "source": [
    "ls"
   ]
  },
  {
   "cell_type": "code",
   "execution_count": 9,
   "metadata": {},
   "outputs": [
    {
     "name": "stdout",
     "output_type": "stream",
     "text": [
      "Writing c1.py\n"
     ]
    }
   ],
   "source": [
    "%%writefile c1.py\n",
    "\n",
    "\n",
    "class Name:\n",
    "    def __init__(name):\n",
    "        self.name = name"
   ]
  },
  {
   "cell_type": "code",
   "execution_count": 10,
   "metadata": {},
   "outputs": [
    {
     "name": "stdout",
     "output_type": "stream",
     "text": [
      " Volume in drive C is Windows\n",
      " Volume Serial Number is E08D-DAD9\n",
      "\n",
      " Directory of C:\\batches\\gitrepo\n",
      "\n",
      "11-07-2020  11:34    <DIR>          .\n",
      "11-07-2020  11:34    <DIR>          ..\n",
      "11-07-2020  11:28             2,266 .one.py.un~\n",
      "11-07-2020  11:34                68 c1.py\n",
      "11-07-2020  11:28               114 one.py\n",
      "11-07-2020  11:24                90 one.py~\n",
      "               4 File(s)          2,538 bytes\n",
      "               2 Dir(s)  24,731,131,904 bytes free\n"
     ]
    }
   ],
   "source": [
    "ls"
   ]
  },
  {
   "cell_type": "code",
   "execution_count": 11,
   "metadata": {},
   "outputs": [
    {
     "name": "stdout",
     "output_type": "stream",
     "text": [
      "On branch master\n",
      "Untracked files:\n",
      "  (use \"git add <file>...\" to include in what will be committed)\n",
      "\n",
      "\tc1.py\n",
      "\n",
      "nothing added to commit but untracked files present (use \"git add\" to track)\n"
     ]
    }
   ],
   "source": [
    "!git status"
   ]
  },
  {
   "cell_type": "code",
   "execution_count": 12,
   "metadata": {},
   "outputs": [],
   "source": [
    "!git add c1.py"
   ]
  },
  {
   "cell_type": "code",
   "execution_count": 13,
   "metadata": {},
   "outputs": [
    {
     "name": "stdout",
     "output_type": "stream",
     "text": [
      "On branch master\n",
      "Changes to be committed:\n",
      "  (use \"git reset HEAD <file>...\" to unstage)\n",
      "\n",
      "\tnew file:   c1.py\n",
      "\n"
     ]
    }
   ],
   "source": [
    "!git status"
   ]
  },
  {
   "cell_type": "code",
   "execution_count": 14,
   "metadata": {},
   "outputs": [
    {
     "name": "stdout",
     "output_type": "stream",
     "text": [
      "[master 58dcc23] added a file c1.py which consists of class\n",
      " 1 file changed, 5 insertions(+)\n",
      " create mode 100644 c1.py\n"
     ]
    }
   ],
   "source": [
    "!git commit -m \"added a file c1.py which consists of class\""
   ]
  },
  {
   "cell_type": "code",
   "execution_count": null,
   "metadata": {},
   "outputs": [],
   "source": [
    "#to create the version of this particular change you have to add a tag of this version\n",
    "\n",
    "git tag -a \"V2.1\" 58dcc23"
   ]
  },
  {
   "cell_type": "code",
   "execution_count": 15,
   "metadata": {},
   "outputs": [
    {
     "name": "stdout",
     "output_type": "stream",
     "text": [
      "V2.0\n",
      "V2.1\n"
     ]
    }
   ],
   "source": [
    "!git tag"
   ]
  },
  {
   "cell_type": "code",
   "execution_count": 16,
   "metadata": {},
   "outputs": [
    {
     "name": "stdout",
     "output_type": "stream",
     "text": [
      "tag V2.1\n",
      "Tagger: simrangrover5 <simrangrover5@gmail.com>\n",
      "Date:   Sat Jul 11 11:39:39 2020 +0530\n",
      "\n",
      "   V2.1 This version conists of class\n",
      "\n",
      "commit 58dcc239356651c4b0a3bbdc8a6b3f1decdf20b2\n",
      "Author: simrangrover5 <simrangrover5@gmail.com>\n",
      "Date:   Sat Jul 11 11:37:57 2020 +0530\n",
      "\n",
      "    added a file c1.py which consists of class\n",
      "\n",
      "diff --git a/c1.py b/c1.py\n",
      "new file mode 100644\n",
      "index 0000000..935943e\n",
      "--- /dev/null\n",
      "+++ b/c1.py\n",
      "@@ -0,0 +1,5 @@\n",
      "+\n",
      "+\n",
      "+class Name:\n",
      "+    def __init__(name):\n",
      "+        self.name = name\n"
     ]
    }
   ],
   "source": [
    "!git show v2.1"
   ]
  },
  {
   "cell_type": "code",
   "execution_count": 17,
   "metadata": {},
   "outputs": [
    {
     "name": "stdout",
     "output_type": "stream",
     "text": [
      "Overwriting c1.py\n"
     ]
    }
   ],
   "source": [
    "%%writefile c1.py\n",
    "\n",
    "\n",
    "class Name:\n",
    "    def __init__(name):\n",
    "        self.name = name\n",
    "        \n",
    "    def show(self):\n",
    "        print(\"The name is : \",self.name)"
   ]
  },
  {
   "cell_type": "code",
   "execution_count": 18,
   "metadata": {},
   "outputs": [
    {
     "name": "stdout",
     "output_type": "stream",
     "text": [
      "On branch master\n",
      "Changes not staged for commit:\n",
      "  (use \"git add <file>...\" to update what will be committed)\n",
      "  (use \"git checkout -- <file>...\" to discard changes in working directory)\n",
      "\n",
      "\tmodified:   c1.py\n",
      "\n",
      "no changes added to commit (use \"git add\" and/or \"git commit -a\")\n"
     ]
    }
   ],
   "source": [
    "!git status"
   ]
  },
  {
   "cell_type": "code",
   "execution_count": 20,
   "metadata": {},
   "outputs": [],
   "source": [
    "#to check the difference in your file"
   ]
  },
  {
   "cell_type": "code",
   "execution_count": 19,
   "metadata": {},
   "outputs": [
    {
     "name": "stdout",
     "output_type": "stream",
     "text": [
      "diff --git a/c1.py b/c1.py\n",
      "index 935943e..53c1c91 100644\n",
      "--- a/c1.py\n",
      "+++ b/c1.py\n",
      "@@ -3,3 +3,6 @@\n",
      " class Name:\n",
      "     def __init__(name):\n",
      "         self.name = name\n",
      "+        \n",
      "+    def show(self):\n",
      "+        print(\"The name is : \",self.name)\n"
     ]
    }
   ],
   "source": [
    "!git diff c1.py  "
   ]
  },
  {
   "cell_type": "code",
   "execution_count": 21,
   "metadata": {},
   "outputs": [
    {
     "name": "stdout",
     "output_type": "stream",
     "text": [
      "On branch master\n",
      "Changes not staged for commit:\n",
      "  (use \"git add <file>...\" to update what will be committed)\n",
      "  (use \"git checkout -- <file>...\" to discard changes in working directory)\n",
      "\n",
      "\tmodified:   c1.py\n",
      "\n",
      "no changes added to commit (use \"git add\" and/or \"git commit -a\")\n"
     ]
    }
   ],
   "source": [
    "!git status"
   ]
  },
  {
   "cell_type": "code",
   "execution_count": 22,
   "metadata": {},
   "outputs": [],
   "source": [
    "!git add c1.py"
   ]
  },
  {
   "cell_type": "code",
   "execution_count": 23,
   "metadata": {},
   "outputs": [
    {
     "name": "stdout",
     "output_type": "stream",
     "text": [
      "On branch master\n",
      "Changes to be committed:\n",
      "  (use \"git reset HEAD <file>...\" to unstage)\n",
      "\n",
      "\tmodified:   c1.py\n",
      "\n"
     ]
    }
   ],
   "source": [
    "!git status"
   ]
  },
  {
   "cell_type": "code",
   "execution_count": 24,
   "metadata": {},
   "outputs": [
    {
     "name": "stdout",
     "output_type": "stream",
     "text": [
      "commit 58dcc239356651c4b0a3bbdc8a6b3f1decdf20b2\n",
      "Author: simrangrover5 <simrangrover5@gmail.com>\n",
      "Date:   Sat Jul 11 11:37:57 2020 +0530\n",
      "\n",
      "    added a file c1.py which consists of class\n",
      "\n",
      "commit 9cd45e2f3cfcbd029863bf7c38074dac33da5862\n",
      "Author: simrangrover5 <simrangrover5@gmail.com>\n",
      "Date:   Sat Jul 11 11:30:14 2020 +0530\n",
      "\n",
      "    added a print line in py file\n",
      "\n",
      "commit 53c1e68b0aadeffc0c70e4a8a8e190f04506272c\n",
      "Author: simrangrover5 <simrangrover5@gmail.com>\n",
      "Date:   Sat Jul 11 11:26:29 2020 +0530\n",
      "\n",
      "    added a python file one.py\n"
     ]
    }
   ],
   "source": [
    "!git log"
   ]
  },
  {
   "cell_type": "code",
   "execution_count": 25,
   "metadata": {},
   "outputs": [
    {
     "name": "stdout",
     "output_type": "stream",
     "text": [
      "[master 3102b4d] added a method in class in c1.py file\n",
      " 1 file changed, 3 insertions(+)\n"
     ]
    }
   ],
   "source": [
    "!git commit -m \"added a method in class in c1.py file\""
   ]
  },
  {
   "cell_type": "code",
   "execution_count": 26,
   "metadata": {},
   "outputs": [
    {
     "name": "stdout",
     "output_type": "stream",
     "text": [
      "commit 3102b4df57de4bd2b971038948320f1555c23c57\n",
      "Author: simrangrover5 <simrangrover5@gmail.com>\n",
      "Date:   Sat Jul 11 11:43:57 2020 +0530\n",
      "\n",
      "    added a method in class in c1.py file\n",
      "\n",
      "commit 58dcc239356651c4b0a3bbdc8a6b3f1decdf20b2\n",
      "Author: simrangrover5 <simrangrover5@gmail.com>\n",
      "Date:   Sat Jul 11 11:37:57 2020 +0530\n",
      "\n",
      "    added a file c1.py which consists of class\n",
      "\n",
      "commit 9cd45e2f3cfcbd029863bf7c38074dac33da5862\n",
      "Author: simrangrover5 <simrangrover5@gmail.com>\n",
      "Date:   Sat Jul 11 11:30:14 2020 +0530\n",
      "\n",
      "    added a print line in py file\n",
      "\n",
      "commit 53c1e68b0aadeffc0c70e4a8a8e190f04506272c\n",
      "Author: simrangrover5 <simrangrover5@gmail.com>\n",
      "Date:   Sat Jul 11 11:26:29 2020 +0530\n",
      "\n",
      "    added a python file one.py\n"
     ]
    }
   ],
   "source": [
    "!git log"
   ]
  },
  {
   "cell_type": "code",
   "execution_count": 27,
   "metadata": {},
   "outputs": [
    {
     "name": "stdout",
     "output_type": "stream",
     "text": [
      "V2.0\n",
      "V2.1\n"
     ]
    }
   ],
   "source": [
    "!git tag"
   ]
  },
  {
   "cell_type": "code",
   "execution_count": null,
   "metadata": {},
   "outputs": [],
   "source": [
    "!git tag -a \"V2.2\" 3102b4d"
   ]
  },
  {
   "cell_type": "code",
   "execution_count": 3,
   "metadata": {},
   "outputs": [
    {
     "name": "stdout",
     "output_type": "stream",
     "text": [
      "tag V2.2\n",
      "Tagger: simrangrover5 <simrangrover5@gmail.com>\n",
      "Date:   Sat Jul 11 11:46:05 2020 +0530\n",
      "\n",
      "  V2.2 In this version a method is added\n",
      "\n",
      "commit 3102b4df57de4bd2b971038948320f1555c23c57\n",
      "Author: simrangrover5 <simrangrover5@gmail.com>\n",
      "Date:   Sat Jul 11 11:43:57 2020 +0530\n",
      "\n",
      "    added a method in class in c1.py file\n",
      "\n",
      "diff --git a/c1.py b/c1.py\n",
      "index 935943e..53c1c91 100644\n",
      "--- a/c1.py\n",
      "+++ b/c1.py\n",
      "@@ -3,3 +3,6 @@\n",
      " class Name:\n",
      "     def __init__(name):\n",
      "         self.name = name\n",
      "+        \n",
      "+    def show(self):\n",
      "+        print(\"The name is : \",self.name)\n"
     ]
    }
   ],
   "source": [
    "!git show V2.2"
   ]
  },
  {
   "cell_type": "markdown",
   "metadata": {},
   "source": [
    "    The user/author that can be local or global\n",
    "    \n",
    "    local --> The user will be for that particular repo/project\n",
    "    global --> The author will be for all of your repo/project or whenever you use this git repository you will\n",
    "    see this global author"
   ]
  },
  {
   "cell_type": "code",
   "execution_count": 4,
   "metadata": {},
   "outputs": [
    {
     "name": "stdout",
     "output_type": "stream",
     "text": [
      "simrangrover5\n"
     ]
    }
   ],
   "source": [
    "!git config user.name"
   ]
  },
  {
   "cell_type": "code",
   "execution_count": 5,
   "metadata": {},
   "outputs": [
    {
     "name": "stdout",
     "output_type": "stream",
     "text": [
      "simrangrover5@gmail.com\n"
     ]
    }
   ],
   "source": [
    "!git config user.email"
   ]
  },
  {
   "cell_type": "markdown",
   "metadata": {},
   "source": [
    "    local \n",
    "    \n",
    "        git config user.name username\n",
    "        git config user.email email\n",
    "        \n",
    "        The email should be valid / github account email\n",
    "        \n",
    "    global\n",
    "    \n",
    "        git config user.name username --global\n",
    "        git config user.email email --global"
   ]
  },
  {
   "cell_type": "code",
   "execution_count": 6,
   "metadata": {},
   "outputs": [],
   "source": [
    "!git config user.name Simran "
   ]
  },
  {
   "cell_type": "code",
   "execution_count": 7,
   "metadata": {},
   "outputs": [
    {
     "name": "stdout",
     "output_type": "stream",
     "text": [
      "Simran\n"
     ]
    }
   ],
   "source": [
    "!git config user.name"
   ]
  },
  {
   "cell_type": "code",
   "execution_count": 8,
   "metadata": {},
   "outputs": [],
   "source": [
    "!cd .git/refs/"
   ]
  },
  {
   "cell_type": "code",
   "execution_count": 11,
   "metadata": {},
   "outputs": [
    {
     "name": "stdout",
     "output_type": "stream",
     "text": [
      " Volume in drive C is Windows\n",
      " Volume Serial Number is E08D-DAD9\n",
      "\n",
      " Directory of C:\\batches\\gitrepo\n",
      "\n",
      "11-07-2020  11:34    <DIR>          .\n",
      "11-07-2020  11:34    <DIR>          ..\n",
      "11-07-2020  11:28             2,266 .one.py.un~\n",
      "11-07-2020  11:41               142 c1.py\n",
      "11-07-2020  11:28               114 one.py\n",
      "11-07-2020  11:24                90 one.py~\n",
      "               4 File(s)          2,612 bytes\n",
      "               2 Dir(s)  24,621,461,504 bytes free\n"
     ]
    }
   ],
   "source": [
    "ls"
   ]
  },
  {
   "cell_type": "code",
   "execution_count": 12,
   "metadata": {},
   "outputs": [],
   "source": [
    "#head --> will point to your latest commit"
   ]
  },
  {
   "cell_type": "code",
   "execution_count": 1,
   "metadata": {},
   "outputs": [
    {
     "name": "stderr",
     "output_type": "stream",
     "text": [
      "fatal: Not a git repository (or any of the parent directories): .git\n"
     ]
    }
   ],
   "source": [
    "!git branch mybranch"
   ]
  },
  {
   "cell_type": "code",
   "execution_count": null,
   "metadata": {},
   "outputs": [],
   "source": []
  }
 ],
 "metadata": {
  "kernelspec": {
   "display_name": "Python 3",
   "language": "python",
   "name": "python3"
  },
  "language_info": {
   "codemirror_mode": {
    "name": "ipython",
    "version": 3
   },
   "file_extension": ".py",
   "mimetype": "text/x-python",
   "name": "python",
   "nbconvert_exporter": "python",
   "pygments_lexer": "ipython3",
   "version": "3.7.4"
  }
 },
 "nbformat": 4,
 "nbformat_minor": 2
}
