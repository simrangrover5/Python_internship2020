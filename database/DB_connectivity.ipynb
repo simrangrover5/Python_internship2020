{
 "cells": [
  {
   "cell_type": "markdown",
   "metadata": {},
   "source": [
    "        Mysql --> pymysql\n",
    "        pip install pymysql, MySQLdb\n",
    "        \n",
    "            Connectivity --> host (ip)\n",
    "                            port (3306)\n",
    "                            database\n",
    "                            user\n",
    "                            password"
   ]
  },
  {
   "cell_type": "code",
   "execution_count": 9,
   "metadata": {},
   "outputs": [
    {
     "name": "stdout",
     "output_type": "stream",
     "text": [
      "\n",
      " The cursor is created you can continue to execute commands\n",
      "\n",
      " The command has been executed successfully\n",
      "********************************************************************************\n",
      "\n",
      " id :  101\n",
      "\n",
      " Name :  Shivani\n",
      "\n",
      " Course :  ds\n",
      "\n",
      " Gender :  female\n",
      "********************************************************************************\n",
      "********************************************************************************\n",
      "\n",
      " id :  102\n",
      "\n",
      " Name :  Rohan\n",
      "\n",
      " Course :  ml\n",
      "\n",
      " Gender :  male\n",
      "********************************************************************************\n",
      "********************************************************************************\n",
      "\n",
      " id :  103\n",
      "\n",
      " Name :  Anisha\n",
      "\n",
      " Course :  aws\n",
      "\n",
      " Gender :  female\n",
      "********************************************************************************\n",
      "********************************************************************************\n",
      "\n",
      " id :  104\n",
      "\n",
      " Name :  Anushka\n",
      "\n",
      " Course :  aws\n",
      "\n",
      " Gender :  female\n",
      "********************************************************************************\n",
      "********************************************************************************\n",
      "\n",
      " id :  105\n",
      "\n",
      " Name :  Devraj\n",
      "\n",
      " Course :  cloud\n",
      "\n",
      " Gender :  male\n",
      "********************************************************************************\n",
      "********************************************************************************\n",
      "\n",
      " id :  106\n",
      "\n",
      " Name :  Koashal\n",
      "\n",
      " Course :  python\n",
      "\n",
      " Gender :  male\n",
      "********************************************************************************\n",
      "********************************************************************************\n",
      "\n",
      " id :  107\n",
      "\n",
      " Name :  Priyanka\n",
      "\n",
      " Course :  python\n",
      "\n",
      " Gender :  female\n",
      "********************************************************************************\n",
      "********************************************************************************\n",
      "\n",
      " id :  108\n",
      "\n",
      " Name :  Naresh\n",
      "\n",
      " Course :  ds\n",
      "\n",
      " Gender :  male\n",
      "********************************************************************************\n",
      "\n",
      " Closing the database\n"
     ]
    }
   ],
   "source": [
    "import pymysql as sql\n",
    "\n",
    "db = sql.connect(host=\"localhost\",port=3306,user=\"root\",password=\"\",database=\"internship_batch\")\n",
    "cursor = db.cursor()  \n",
    "print(\"\\n The cursor is created you can continue to execute commands\")\n",
    "cmd = \"select * from student\"\n",
    "cursor.execute(cmd)\n",
    "data = cursor.fetchall() #it will fetch all the data and return it to you in form of tuple\n",
    "print(\"\\n The command has been executed successfully\")\n",
    "#print(data)\n",
    "for i in data:\n",
    "    print(\"*\"*80)\n",
    "    print(\"\\n id : \",i[0])\n",
    "    print(\"\\n Name : \",i[1].title())\n",
    "    print(\"\\n Course : \",i[2])\n",
    "    print(\"\\n Gender : \",i[3])\n",
    "    print(\"*\"*80)\n",
    "db.close()\n",
    "print(\"\\n Closing the database\")"
   ]
  },
  {
   "cell_type": "code",
   "execution_count": 2,
   "metadata": {},
   "outputs": [
    {
     "data": {
      "text/plain": [
       "<pymysql.connections.Connection at 0x2799cc9af88>"
      ]
     },
     "execution_count": 2,
     "metadata": {},
     "output_type": "execute_result"
    }
   ],
   "source": [
    "db"
   ]
  },
  {
   "cell_type": "code",
   "execution_count": 7,
   "metadata": {},
   "outputs": [],
   "source": [
    "#%sql"
   ]
  },
  {
   "cell_type": "code",
   "execution_count": 11,
   "metadata": {},
   "outputs": [
    {
     "name": "stdout",
     "output_type": "stream",
     "text": [
      "········\n"
     ]
    },
    {
     "data": {
      "text/plain": [
       "'pijfpijppofpo'"
      ]
     },
     "execution_count": 11,
     "metadata": {},
     "output_type": "execute_result"
    }
   ],
   "source": [
    "getpass()"
   ]
  },
  {
   "cell_type": "code",
   "execution_count": 17,
   "metadata": {},
   "outputs": [
    {
     "name": "stdout",
     "output_type": "stream",
     "text": [
      "\n",
      " Enter the user from which you want to login : internship\n",
      "\n",
      " Enter your password : ········\n",
      "\n",
      " In Which table you want to insert 1.Student 2.Fees 3.Address : 3\n",
      "\n",
      " Enter address id : 6\n",
      "\n",
      " Enter sid : 109\n",
      "\n",
      " Enter city : gurgaon\n",
      "\n",
      " Enter streettilak nagar\n",
      "\n",
      " Data inserted successfully\n"
     ]
    }
   ],
   "source": [
    "#insert data\n",
    "import pymysql as sql\n",
    "from getpass import getpass\n",
    "\n",
    "user = input(\"\\n Enter the user from which you want to login : \")\n",
    "password = getpass(\"\\n Enter your password : \")\n",
    "db = sql.connect(host=\"localhost\", port=3306, database=\"internship_batch\", user=f\"{user}\", password=f\"{password}\")\n",
    "cursor = db.cursor()\n",
    "ch = int(input(\"\\n In Which table you want to insert 1.Student 2.Fees 3.Address : \"))\n",
    "if ch == 1:\n",
    "    while True:\n",
    "        name = input(\"\\n Enter name : \")\n",
    "        course = input(\"\\n Enter course : \")\n",
    "        gender = input(\"\\n Enter gender : \")\n",
    "        cmd = f\"insert into student(name,course,gender) values('{name}',c'{course}','{gender}')\"\n",
    "        cursor.execute(cmd)\n",
    "        db.commit()  #to store the data permanently\n",
    "        print(\"\\n Data Inserted Successfully......\")\n",
    "        ch = input(\"\\n Do you want to continue yes/no : \").strip().lower()\n",
    "        if ch == \"no\":\n",
    "            print(\"\\n Okay bye bye.....I was not happy to have you......\")\n",
    "            cursor.execute(\"select id from student\")\n",
    "            sids = db.fetchall()\n",
    "            for i in sids:\n",
    "                print(i)\n",
    "            break\n",
    "elif ch == 2:\n",
    "    while True:\n",
    "        cursor.execute(\"select id from student\")\n",
    "        sids = cursor.fetchall()\n",
    "        print(\"\\n All these sid are avaiable so enter a sid among them\")\n",
    "        for i in sids:\n",
    "            print(i)\n",
    "        sid = int(input(\"\\n Enter sid : \"))\n",
    "        fid = int(input(\"\\n Enter fid : \"))\n",
    "        fees = int(input(\"\\n Enter fees : \"))\n",
    "        dis = int(input(\"\\n Enter discount : \"))\n",
    "        dip = int(input(\"\\n Enter diposit : \"))\n",
    "        for i in sids:\n",
    "            if sid in i:  \n",
    "                cursor.execute(f\"insert into fees values({fid},{sid},{fees},{dis},{dip})\")\n",
    "                db.commit()\n",
    "                print(\"\\n Data Inserted Successfully......\")\n",
    "                break\n",
    "        else:\n",
    "            print(\"\\n No such Sid available please Try again\")\n",
    "        ch = input(\"\\n Do you want to continue yes/no : \").strip().lower()\n",
    "        if ch == \"no\":\n",
    "            print(\"\\n Okay bye bye.....I was not happy to have you......\")\n",
    "            break\n",
    "                \n",
    "        \n",
    "        \n",
    "elif ch == 3:\n",
    "    aid = int(input(\"\\n Enter address id : \"))\n",
    "    sid = int(input(\"\\n Enter sid : \"))\n",
    "    city = input(\"\\n Enter city : \")\n",
    "    street = input(\"\\n Enter street\")\n",
    "    cursor.execute(f\"insert into address values({aid},{sid},'{city}','{street}')\")\n",
    "    db.commit()\n",
    "    print(\"\\n Data inserted successfully\")\n",
    "else:\n",
    "    print(\"\\n Invalid choice......\")"
   ]
  },
  {
   "cell_type": "markdown",
   "metadata": {},
   "source": [
    "                table???\n",
    "            Student\n",
    "                1. select\n",
    "                2. update  #update student set course=\"python\" where id = 107;\n",
    "                    column??\n",
    "                        column name\n",
    "                        column value\n",
    "                    id??\n",
    "                3. insert\n",
    "                4. delete\n",
    "                    id??\n",
    "           fees\n",
    "               1. select\n",
    "               2. update\n",
    "               3. insert\n",
    "               4. delete\n",
    "               \n",
    "          #Make bank application using oops and database??"
   ]
  },
  {
   "cell_type": "markdown",
   "metadata": {},
   "source": [
    "#### Sqlite Connectivity"
   ]
  },
  {
   "cell_type": "markdown",
   "metadata": {},
   "source": [
    "            It is a small database\n",
    "            It is used by making database file\n",
    "            \n",
    "                Sqlite3 module ---> sqlite database connectivity"
   ]
  },
  {
   "cell_type": "code",
   "execution_count": 18,
   "metadata": {},
   "outputs": [
    {
     "name": "stdout",
     "output_type": "stream",
     "text": [
      " Volume in drive C is Windows\n",
      " Volume Serial Number is E08D-DAD9\n",
      "\n",
      " Directory of C:\\batches\\online_batch\\internship_batch\\database\n",
      "\n",
      "09-06-2020  18:17    <DIR>          .\n",
      "09-06-2020  18:17    <DIR>          ..\n",
      "09-06-2020  17:24    <DIR>          .ipynb_checkpoints\n",
      "09-06-2020  18:17            10,638 DB_connectivity.ipynb\n",
      "08-06-2020  18:58            65,061 eah_sql_blog1.jpg\n",
      "06-06-2020  12:30           115,304 ER_diagram.ipynb\n",
      "13-05-2020  16:51            52,045 ERD.png\n",
      "25-05-2020  10:27            17,873 er-diagram-symbols.png\n",
      "08-06-2020  18:58           379,115 JOIN_DBCONNECTIVITY.ipynb\n",
      "05-06-2020  18:41            27,729 query1.txt\n",
      "06-06-2020  12:27            27,107 query2.txt\n",
      "08-06-2020  18:49            37,092 query3.txt\n",
      "               9 File(s)        731,964 bytes\n",
      "               3 Dir(s)  53,937,586,176 bytes free\n"
     ]
    }
   ],
   "source": [
    "ls"
   ]
  },
  {
   "cell_type": "code",
   "execution_count": 21,
   "metadata": {},
   "outputs": [],
   "source": [
    "import sqlite3 as sql\n",
    "\n",
    "db = sql.connect(\"Employee.db\")  #connect(database_name)\n",
    "#if database exist then it will connect to it otherwise it will create database and then it will get connect to it\n",
    "db.close()"
   ]
  },
  {
   "cell_type": "code",
   "execution_count": 20,
   "metadata": {},
   "outputs": [
    {
     "name": "stdout",
     "output_type": "stream",
     "text": [
      " Volume in drive C is Windows\n",
      " Volume Serial Number is E08D-DAD9\n",
      "\n",
      " Directory of C:\\batches\\online_batch\\internship_batch\\database\n",
      "\n",
      "09-06-2020  18:20    <DIR>          .\n",
      "09-06-2020  18:20    <DIR>          ..\n",
      "09-06-2020  17:24    <DIR>          .ipynb_checkpoints\n",
      "09-06-2020  18:19            12,255 DB_connectivity.ipynb\n",
      "08-06-2020  18:58            65,061 eah_sql_blog1.jpg\n",
      "09-06-2020  18:20                 0 Employee.db\n",
      "06-06-2020  12:30           115,304 ER_diagram.ipynb\n",
      "13-05-2020  16:51            52,045 ERD.png\n",
      "25-05-2020  10:27            17,873 er-diagram-symbols.png\n",
      "08-06-2020  18:58           379,115 JOIN_DBCONNECTIVITY.ipynb\n",
      "05-06-2020  18:41            27,729 query1.txt\n",
      "06-06-2020  12:27            27,107 query2.txt\n",
      "08-06-2020  18:49            37,092 query3.txt\n",
      "              10 File(s)        733,581 bytes\n",
      "               3 Dir(s)  53,926,506,496 bytes free\n"
     ]
    }
   ],
   "source": [
    "ls"
   ]
  },
  {
   "cell_type": "code",
   "execution_count": 22,
   "metadata": {},
   "outputs": [
    {
     "name": "stdout",
     "output_type": "stream",
     "text": [
      "\n",
      " Table is created\n"
     ]
    }
   ],
   "source": [
    "import sqlite3 as sql\n",
    "\n",
    "db = sql.connect(\"Employee.db\")  #connect(database_name)\n",
    "#if database exist then it will connect to it otherwise it will create database and then it will get connect to it\n",
    "cursor = db.cursor()\n",
    "cmd = \"create table employee(eid int(5),name varchar(100),address varchar(100))\"\n",
    "cursor.execute(cmd)\n",
    "print(\"\\n Table is created\")"
   ]
  },
  {
   "cell_type": "code",
   "execution_count": 23,
   "metadata": {},
   "outputs": [
    {
     "name": "stdout",
     "output_type": "stream",
     "text": [
      " Volume in drive C is Windows\n",
      " Volume Serial Number is E08D-DAD9\n",
      "\n",
      " Directory of C:\\batches\\online_batch\\internship_batch\\database\n",
      "\n",
      "09-06-2020  18:24    <DIR>          .\n",
      "09-06-2020  18:24    <DIR>          ..\n",
      "09-06-2020  17:24    <DIR>          .ipynb_checkpoints\n",
      "09-06-2020  18:23            14,032 DB_connectivity.ipynb\n",
      "08-06-2020  18:58            65,061 eah_sql_blog1.jpg\n",
      "09-06-2020  18:24             8,192 Employee.db\n",
      "06-06-2020  12:30           115,304 ER_diagram.ipynb\n",
      "13-05-2020  16:51            52,045 ERD.png\n",
      "25-05-2020  10:27            17,873 er-diagram-symbols.png\n",
      "08-06-2020  18:58           379,115 JOIN_DBCONNECTIVITY.ipynb\n",
      "05-06-2020  18:41            27,729 query1.txt\n",
      "06-06-2020  12:27            27,107 query2.txt\n",
      "08-06-2020  18:49            37,092 query3.txt\n",
      "              10 File(s)        743,550 bytes\n",
      "               3 Dir(s)  53,898,403,840 bytes free\n"
     ]
    }
   ],
   "source": [
    "ls"
   ]
  },
  {
   "cell_type": "code",
   "execution_count": 24,
   "metadata": {},
   "outputs": [],
   "source": [
    "#vim employee.db"
   ]
  },
  {
   "cell_type": "code",
   "execution_count": 26,
   "metadata": {},
   "outputs": [
    {
     "name": "stdout",
     "output_type": "stream",
     "text": [
      "\n",
      " ENter eid : 2\n",
      "\n",
      " Enter name : manish\n",
      "\n",
      " Enter address : vaishali nagar\n",
      "\n",
      " data inserted\n"
     ]
    }
   ],
   "source": [
    "import sqlite3 as sql\n",
    "\n",
    "db = sql.connect(\"Employee.db\")  #connect(database_name)\n",
    "#if database exist then it will connect to it otherwise it will create database and then it will get connect to it\n",
    "cursor = db.cursor()\n",
    "eid = int(input(\"\\n ENter eid : \"))\n",
    "name = input(\"\\n Enter name : \")\n",
    "address = input(\"\\n Enter address : \")\n",
    "cmd = f\"insert into employee values({eid},'{name}','{address}')\"\n",
    "cursor.execute(cmd)\n",
    "db.commit()\n",
    "print(\"\\n data inserted\")\n",
    "db.close()"
   ]
  },
  {
   "cell_type": "code",
   "execution_count": 27,
   "metadata": {},
   "outputs": [
    {
     "name": "stdout",
     "output_type": "stream",
     "text": [
      "[(1, 'simran', 'malviya nagar'), (2, 'manish', 'vaishali nagar')]\n"
     ]
    }
   ],
   "source": [
    "with sql.connect(\"employee.db\") as db:  #with --> context managers that will free you resource after coming out of indent\n",
    "    cursor = db.cursor()\n",
    "    cursor.execute(\"select * from employee\")\n",
    "    data = cursor.fetchall()\n",
    "    print(data)"
   ]
  },
  {
   "cell_type": "code",
   "execution_count": 28,
   "metadata": {},
   "outputs": [
    {
     "name": "stdout",
     "output_type": "stream",
     "text": [
      "(1, 'simran', 'malviya nagar')\n"
     ]
    }
   ],
   "source": [
    "with sql.connect(\"employee.db\") as db:  #with --> context managers that will free you resource after coming out of indent\n",
    "    cursor = db.cursor()\n",
    "    cursor.execute(\"select * from employee\")\n",
    "    data = cursor.fetchone()   #fetch first tuple\n",
    "    print(data)\n",
    "    "
   ]
  },
  {
   "cell_type": "markdown",
   "metadata": {},
   "source": [
    "### Design \n",
    "        Frontend --> User ---> html,css,bs,\n",
    "        \n",
    "        Html --> Hyper text Markup Language\n",
    "            Markup --> browser\n",
    "            tags --> <>\n",
    "            <html>  -->opening tag\n",
    "            </html> --> closing tag\n",
    "            \n",
    "                        HTML\n",
    "            Head                  Body\n",
    "            \n",
    "            Head --> It is the first tag that is read\n",
    "            \n",
    "                title\n",
    "                style\n",
    "                script\n",
    "                link --> to link the external files\n",
    "            Body --> The tags or the content that you want to show on browser\n",
    "                    p --> paragraph\n",
    "                    li --> list\n",
    "                    img --> image\n",
    "                    video --> video\n",
    "                    a --> links\n",
    "                    ul --> un ordered list\n",
    "                    ol --> ordered list\n",
    "                    mark\n",
    "                    form\n",
    "                    sub\n",
    "                    sup\n",
    "                    i\n",
    "                    b\n",
    "                    br\n",
    "                    input\n",
    "                    label\n",
    "                    \n",
    "                    \n",
    "       #w3schools"
   ]
  }
 ],
 "metadata": {
  "kernelspec": {
   "display_name": "Python 3",
   "language": "python",
   "name": "python3"
  },
  "language_info": {
   "codemirror_mode": {
    "name": "ipython",
    "version": 3
   },
   "file_extension": ".py",
   "mimetype": "text/x-python",
   "name": "python",
   "nbconvert_exporter": "python",
   "pygments_lexer": "ipython3",
   "version": "3.7.4"
  }
 },
 "nbformat": 4,
 "nbformat_minor": 2
}
